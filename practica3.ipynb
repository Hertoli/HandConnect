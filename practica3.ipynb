{
  "cells": [
    {
      "cell_type": "markdown",
      "metadata": {
        "id": "view-in-github",
        "colab_type": "text"
      },
      "source": [
        "<a href=\"https://colab.research.google.com/github/Hertoli/HandConnect/blob/main/practica3.ipynb\" target=\"_parent\"><img src=\"https://colab.research.google.com/assets/colab-badge.svg\" alt=\"Open In Colab\"/></a>"
      ]
    },
    {
      "cell_type": "markdown",
      "metadata": {
        "id": "4XXzqj4Un8VL"
      },
      "source": [
        "Imprime un mensaje combinando and y or en una condición."
      ]
    },
    {
      "cell_type": "code",
      "execution_count": null,
      "metadata": {
        "colab": {
          "base_uri": "https://localhost:8080/"
        },
        "id": "YwUBofwhn-Gb",
        "outputId": "c275c4e2-feff-4b47-b299-6ab1ba34b6c1"
      },
      "outputs": [
        {
          "name": "stdout",
          "output_type": "stream",
          "text": [
            "Aprendere\n"
          ]
        }
      ],
      "source": [
        "mensaje = \"Estoy intentando estudiar\"\n",
        "motivacion = \"No lo dudes tanto\"\n",
        "disciplina = \"Ten disciplina Estrella\"\n",
        "\n",
        "if mensaje and motivacion or disciplina:\n",
        "\n",
        "   print(f\"Aprendere\")"
      ]
    },
    {
      "cell_type": "markdown",
      "metadata": {
        "id": "9IZsBtSTqVGM"
      },
      "source": [
        "Crea una función que use len() para contar caracteres en una palabra."
      ]
    },
    {
      "cell_type": "code",
      "execution_count": null,
      "metadata": {
        "colab": {
          "base_uri": "https://localhost:8080/"
        },
        "id": "rkj7sNoNqZhO",
        "outputId": "c63b24cc-e7f9-44c9-d8c7-8ef2054756cb"
      },
      "outputs": [
        {
          "name": "stdout",
          "output_type": "stream",
          "text": [
            "La corazon tiene 7 caracteres\n"
          ]
        }
      ],
      "source": [
        "palabra = \"corazon\"\n",
        "contador = len(palabra)\n",
        "\n",
        "print(f\"La {palabra} tiene {contador} caracteres\")"
      ]
    },
    {
      "cell_type": "markdown",
      "metadata": {
        "id": "s-S7jIrjq67n"
      },
      "source": [
        "Usa [::-1] para invertir una oración ingresada por el usuario."
      ]
    },
    {
      "cell_type": "code",
      "execution_count": null,
      "metadata": {
        "colab": {
          "base_uri": "https://localhost:8080/"
        },
        "id": "Z1r-u4yFq9h1",
        "outputId": "401f9e5d-6380-4bec-e349-de04cd4c1ce7"
      },
      "outputs": [
        {
          "name": "stdout",
          "output_type": "stream",
          "text": [
            "Ingrese una oración para invertirla: Hola\n",
            "La oración invertida es : aloH\n"
          ]
        }
      ],
      "source": [
        "oracion = input(\"Ingrese una oración para invertirla: \")\n",
        "invertir = oracion[::-1]\n",
        "\n",
        "print (f\"La oración invertida es : {invertir}\")"
      ]
    },
    {
      "cell_type": "markdown",
      "metadata": {
        "id": "yvzoMTGHrbVr"
      },
      "source": [
        "Genera un número aleatorio entre 1 y 100 con random."
      ]
    },
    {
      "cell_type": "code",
      "execution_count": null,
      "metadata": {
        "colab": {
          "base_uri": "https://localhost:8080/"
        },
        "id": "U6qAZE8Jrddd",
        "outputId": "e47a043e-9031-4275-e9a2-c8c7c7b72ae1"
      },
      "outputs": [
        {
          "name": "stdout",
          "output_type": "stream",
          "text": [
            "45\n"
          ]
        }
      ],
      "source": [
        "import random\n",
        "print(random.randint(1, 100))  # Genera un número entre 1 y 10\n"
      ]
    },
    {
      "cell_type": "markdown",
      "metadata": {
        "id": "RWytogQpsypk"
      },
      "source": [
        "Usa string.ascii_letters para generar una cadena aleatoria de 5 letras."
      ]
    },
    {
      "cell_type": "code",
      "execution_count": 2,
      "metadata": {
        "colab": {
          "base_uri": "https://localhost:8080/",
          "height": 36
        },
        "id": "T-OOudLqszKF",
        "outputId": "adf003de-8d7f-47eb-d34f-0c020539b312"
      },
      "outputs": [
        {
          "output_type": "execute_result",
          "data": {
            "text/plain": [
              "'gMeMC'"
            ],
            "application/vnd.google.colaboratory.intrinsic+json": {
              "type": "string"
            }
          },
          "metadata": {},
          "execution_count": 2
        }
      ],
      "source": [
        "import random\n",
        "import string\n",
        "\n",
        "# Generar una cadena aleatoria de 5 letras\n",
        "random_string = ''.join(random.choices(string.ascii_letters, k=5))\n",
        "random_string\n"
      ]
    },
    {
      "cell_type": "markdown",
      "source": [
        "Crea una lista de números y ordénala con numeros.sort()."
      ],
      "metadata": {
        "id": "WwbTYaQqV8h_"
      }
    },
    {
      "cell_type": "code",
      "source": [
        "numeros = [5, 2, 8, 1, 9, 3]  # Crea una lista de números\n",
        "numeros.sort()  # Ordena la lista en orden ascendente\n",
        "print(numeros)  # Imprime la lista ordenada\n"
      ],
      "metadata": {
        "colab": {
          "base_uri": "https://localhost:8080/"
        },
        "id": "NdBXZj8xV9AW",
        "outputId": "8cf2565c-af44-430c-8373-f93adafa894d"
      },
      "execution_count": 3,
      "outputs": [
        {
          "output_type": "stream",
          "name": "stdout",
          "text": [
            "[1, 2, 3, 5, 8, 9]\n"
          ]
        }
      ]
    },
    {
      "cell_type": "markdown",
      "source": [
        "Usa un bucle for para recorrer una lista de nombres"
      ],
      "metadata": {
        "id": "yz89xstvwhJE"
      }
    },
    {
      "cell_type": "code",
      "source": [
        "lista = [\"Matematica\", \"comunicacion\" , \"literatura\"]\n",
        "\n",
        "for i in lista :\n",
        "    print(i)"
      ],
      "metadata": {
        "colab": {
          "base_uri": "https://localhost:8080/"
        },
        "id": "-QZohBd9whuu",
        "outputId": "425c141e-32b1-4fe1-92e1-8087a3ccebde"
      },
      "execution_count": 19,
      "outputs": [
        {
          "output_type": "stream",
          "name": "stdout",
          "text": [
            "Matematica\n",
            "comunicacion\n",
            "literatura\n"
          ]
        }
      ]
    },
    {
      "cell_type": "code",
      "source": [
        "lista = [\"matematica\", \"comunicacion\", \"literatura\"]\n",
        "\n",
        "for i in lista:\n",
        "    print(i)  # Imprime cada elemento de la lista correctamente\n"
      ],
      "metadata": {
        "colab": {
          "base_uri": "https://localhost:8080/"
        },
        "id": "RUEqvp315D5y",
        "outputId": "0d75d0e4-fcb3-4d48-8d2b-1481cb116018"
      },
      "execution_count": 14,
      "outputs": [
        {
          "output_type": "stream",
          "name": "stdout",
          "text": [
            "matematica\n",
            "comunicacion\n",
            "literatura\n"
          ]
        }
      ]
    },
    {
      "cell_type": "markdown",
      "source": [
        "Usa range(1, 11) para imprimir los números del 1 al 10."
      ],
      "metadata": {
        "id": "ka61Z32F68tQ"
      }
    },
    {
      "cell_type": "code",
      "source": [
        "for i in range (1,11):\n",
        "  print(i)\n",
        ""
      ],
      "metadata": {
        "colab": {
          "base_uri": "https://localhost:8080/"
        },
        "id": "h9Y0Nkru69Q4",
        "outputId": "4e810e18-e3d7-4371-edee-ca6d7543e406"
      },
      "execution_count": 20,
      "outputs": [
        {
          "output_type": "stream",
          "name": "stdout",
          "text": [
            "1\n",
            "2\n",
            "3\n",
            "4\n",
            "5\n",
            "6\n",
            "7\n",
            "8\n",
            "9\n",
            "10\n"
          ]
        }
      ]
    },
    {
      "cell_type": "markdown",
      "source": [
        "Crea un while True que solo se detenga si el usuario escribe \"salir\"."
      ],
      "metadata": {
        "id": "IyLBSpE49fOD"
      }
    },
    {
      "cell_type": "code",
      "source": [],
      "metadata": {
        "id": "1GCBID1z9gCN"
      },
      "execution_count": null,
      "outputs": []
    }
  ],
  "metadata": {
    "colab": {
      "provenance": [],
      "authorship_tag": "ABX9TyMVnocw41f/yknGnS9CX2qu",
      "include_colab_link": true
    },
    "kernelspec": {
      "display_name": "Python 3",
      "name": "python3"
    },
    "language_info": {
      "name": "python"
    }
  },
  "nbformat": 4,
  "nbformat_minor": 0
}