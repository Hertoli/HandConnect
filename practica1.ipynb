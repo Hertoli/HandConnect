{
  "nbformat": 4,
  "nbformat_minor": 0,
  "metadata": {
    "colab": {
      "provenance": [],
      "authorship_tag": "ABX9TyOrXVuW5ULUsAJajz12mBVS",
      "include_colab_link": true
    },
    "kernelspec": {
      "name": "python3",
      "display_name": "Python 3"
    },
    "language_info": {
      "name": "python"
    }
  },
  "cells": [
    {
      "cell_type": "markdown",
      "metadata": {
        "id": "view-in-github",
        "colab_type": "text"
      },
      "source": [
        "<a href=\"https://colab.research.google.com/github/Hertoli/HandConnect/blob/main/practica1.ipynb\" target=\"_parent\"><img src=\"https://colab.research.google.com/assets/colab-badge.svg\" alt=\"Open In Colab\"/></a>"
      ]
    },
    {
      "cell_type": "code",
      "execution_count": null,
      "metadata": {
        "colab": {
          "base_uri": "https://localhost:8080/"
        },
        "id": "Y5VMqMPHoCAM",
        "outputId": "71c03350-53ae-4fcf-ee94-7722cdfa8ebd"
      },
      "outputs": [
        {
          "output_type": "stream",
          "name": "stdout",
          "text": [
            "Cual es tu edad?\n",
            "24\n",
            "Tengo 24 años\n"
          ]
        }
      ],
      "source": [
        "print(\"Cual es tu edad?\")\n",
        "edad = input()\n",
        "print(\"Tengo\", edad, \"años\")"
      ]
    },
    {
      "cell_type": "code",
      "source": [
        "anything = input(\"Te estas esforzando?..\")\n",
        "print(\"Hmm...\", anything, \"lo estoy haciendo\")\n",
        "\n"
      ],
      "metadata": {
        "colab": {
          "base_uri": "https://localhost:8080/"
        },
        "id": "QnfWOsXuovWS",
        "outputId": "e667386c-9fc6-4e40-a680-14dce79b30ef"
      },
      "execution_count": null,
      "outputs": [
        {
          "output_type": "stream",
          "name": "stdout",
          "text": [
            "Te estas esforzando?..si\n",
            "Hmm... si lo estoy haciendo\n"
          ]
        }
      ]
    },
    {
      "cell_type": "code",
      "source": [
        "anything = input(\"Ingresa un número:\")\n",
        "something = anything ** 2.0\n",
        "print(anything, \"al cuadrado es\", something)\n",
        "\n"
      ],
      "metadata": {
        "colab": {
          "base_uri": "https://localhost:8080/",
          "height": 211
        },
        "id": "gWFnSYvG8uXP",
        "outputId": "b2606d16-a4b7-4ee4-ecbf-82a6d4263f81"
      },
      "execution_count": null,
      "outputs": [
        {
          "name": "stdout",
          "output_type": "stream",
          "text": [
            "Ingresa un número:2\n"
          ]
        },
        {
          "output_type": "error",
          "ename": "TypeError",
          "evalue": "unsupported operand type(s) for ** or pow(): 'str' and 'float'",
          "traceback": [
            "\u001b[0;31m---------------------------------------------------------------------------\u001b[0m",
            "\u001b[0;31mTypeError\u001b[0m                                 Traceback (most recent call last)",
            "\u001b[0;32m<ipython-input-4-969233d892e9>\u001b[0m in \u001b[0;36m<cell line: 0>\u001b[0;34m()\u001b[0m\n\u001b[1;32m      1\u001b[0m \u001b[0manything\u001b[0m \u001b[0;34m=\u001b[0m \u001b[0minput\u001b[0m\u001b[0;34m(\u001b[0m\u001b[0;34m\"Ingresa un número:\"\u001b[0m\u001b[0;34m)\u001b[0m\u001b[0;34m\u001b[0m\u001b[0;34m\u001b[0m\u001b[0m\n\u001b[0;32m----> 2\u001b[0;31m \u001b[0msomething\u001b[0m \u001b[0;34m=\u001b[0m \u001b[0manything\u001b[0m \u001b[0;34m**\u001b[0m \u001b[0;36m2.0\u001b[0m\u001b[0;34m\u001b[0m\u001b[0;34m\u001b[0m\u001b[0m\n\u001b[0m\u001b[1;32m      3\u001b[0m \u001b[0mprint\u001b[0m\u001b[0;34m(\u001b[0m\u001b[0manything\u001b[0m\u001b[0;34m,\u001b[0m \u001b[0;34m\"al cuadrado es\"\u001b[0m\u001b[0;34m,\u001b[0m \u001b[0msomething\u001b[0m\u001b[0;34m)\u001b[0m\u001b[0;34m\u001b[0m\u001b[0;34m\u001b[0m\u001b[0m\n\u001b[1;32m      4\u001b[0m \u001b[0;34m\u001b[0m\u001b[0m\n",
            "\u001b[0;31mTypeError\u001b[0m: unsupported operand type(s) for ** or pow(): 'str' and 'float'"
          ]
        }
      ]
    },
    {
      "cell_type": "code",
      "source": [
        "anything = float(input(\"Ingresa un número: \"))  # Convertir la entrada a número\n",
        "something = anything ** 2.0  # Elevar al cuadrado\n",
        "print(anything, \"al cuadrado es\", something)\n"
      ],
      "metadata": {
        "colab": {
          "base_uri": "https://localhost:8080/"
        },
        "id": "eHiEf7My-Nyt",
        "outputId": "73dd8a8a-ee2d-4553-af5c-efd9f4711197"
      },
      "execution_count": null,
      "outputs": [
        {
          "output_type": "stream",
          "name": "stdout",
          "text": [
            "Ingresa un número: 2\n",
            "2.0 al cuadrado es 4.0\n"
          ]
        }
      ]
    },
    {
      "cell_type": "code",
      "source": [
        "print(\"+\" + 10 * \"-\" + \"+\")\n",
        "print((\"|\" + \" \" * 10 + \"|\\n\") * 5, end=\"\")\n",
        "print(\"+\" + 10 * \"-\" + \"+\")"
      ],
      "metadata": {
        "id": "ZM2eipbACiv2",
        "outputId": "cd443828-bd4b-4972-8f70-b59ce5ee8f69",
        "colab": {
          "base_uri": "https://localhost:8080/"
        }
      },
      "execution_count": null,
      "outputs": [
        {
          "output_type": "stream",
          "name": "stdout",
          "text": [
            "+----------+\n",
            "|          |\n",
            "|          |\n",
            "|          |\n",
            "|          |\n",
            "|          |\n",
            "+----------+\n"
          ]
        }
      ]
    },
    {
      "cell_type": "code",
      "source": [
        "a = float(input(\"Ingresa el primer valor: \"))\n",
        "b = float(input(\"Ingresa el segundo valor: \"))\n",
        "print(\"Suma:\", a + b)\n",
        "print(\"Resta:\", a - b)\n",
        "print(\"Multiplicación:\", a * b)\n",
        "print(\"División:\", a / b)\n",
        "print(\"\\n¡Eso es todo, amigos!\")\n"
      ],
      "metadata": {
        "colab": {
          "base_uri": "https://localhost:8080/"
        },
        "id": "ioopQlJr2KL3",
        "outputId": "d62833e0-fd4f-40cd-e7c1-0ddcea9870f4"
      },
      "execution_count": null,
      "outputs": [
        {
          "output_type": "stream",
          "name": "stdout",
          "text": [
            "Ingresa el primer valor: 3\n",
            "Ingresa el segundo valor: 7\n",
            "Suma: 10.0\n",
            "Resta: -4.0\n",
            "Multiplicación: 21.0\n",
            "División: 0.42857142857142855\n",
            "\n",
            "¡Eso es todo, amigos!\n"
          ]
        }
      ]
    },
    {
      "cell_type": "code",
      "source": [
        "hour = int(input(\"Hora de inicio (horas): \"))\n",
        "mins = int(input(\"Minuto de inicio (minutos): \"))\n",
        "dura = int(input(\"Duración del evento (minutos): \"))\n",
        "mins = mins + dura # encuentra el número total de minutos\n",
        "hour = hour + mins // 60 # encuentra el número de horas ocultas en los minutos y actualiza las horas\n",
        "mins = mins % 60 # corrige los minutos para que estén en un rango de (0..59)\n",
        "hour = hour % 24 # corrige las horas para que estén en un rango de (0..23)\n",
        "print(hour, \":\", mins, sep='')\n"
      ],
      "metadata": {
        "colab": {
          "base_uri": "https://localhost:8080/"
        },
        "id": "dLEkcks99nrD",
        "outputId": "04cfcf56-5b56-444c-bb81-ce08145cd045"
      },
      "execution_count": null,
      "outputs": [
        {
          "output_type": "stream",
          "name": "stdout",
          "text": [
            "Hora de inicio (horas): 2\n",
            "Minuto de inicio (minutos): 4\n",
            "Duración del evento (minutos): 2\n",
            "2:6\n"
          ]
        }
      ]
    },
    {
      "cell_type": "code",
      "source": [
        "name = input(\"Ingresa tu nombre: \")\n",
        "print(\"Hola, \" + name + \". ¡Un gusto conocerte!\")\n",
        "\n"
      ],
      "metadata": {
        "colab": {
          "base_uri": "https://localhost:8080/"
        },
        "id": "vRhSpbI9DULz",
        "outputId": "58134f73-72c4-4464-ffdc-fb71331d0a73"
      },
      "execution_count": null,
      "outputs": [
        {
          "output_type": "stream",
          "name": "stdout",
          "text": [
            "Ingresa tu nombre: Liliana\n",
            "Hola, Liliana. ¡Un gusto conocerte!\n"
          ]
        }
      ]
    },
    {
      "cell_type": "code",
      "source": [
        "name = input(\"Ingresa tu nombre: \")\n",
        "print(\"Hola, \" + name + \". '¡Gusto en conocerte'!\")\n",
        "\n",
        "print(\"\\nPresiona Enter para terminar el programa.\")\n",
        "input()\n",
        "print(\"FIN.\")\n",
        "\n"
      ],
      "metadata": {
        "colab": {
          "base_uri": "https://localhost:8080/"
        },
        "id": "7HRuSVxUD-zW",
        "outputId": "193d7cdb-10da-482e-89a4-d649e2c79bfe"
      },
      "execution_count": null,
      "outputs": [
        {
          "output_type": "stream",
          "name": "stdout",
          "text": [
            "Ingresa tu nombre: Liliana\n",
            "Hola, Liliana. '¡Gusto en conocerte'!\n",
            "\n",
            "Presiona Enter para terminar el programa.\n",
            "\n",
            "FIN.\n"
          ]
        }
      ]
    },
    {
      "cell_type": "code",
      "source": [
        "num_1 = input(\"Ingresa el primer número: \") # Ingresa 12\n",
        "num_2 = input(\"Ingresa el segundo número: \") # Ingresa 21\n",
        "\n",
        "print(num_1 + num_2) # El programa retorna 1221\n",
        "\n"
      ],
      "metadata": {
        "colab": {
          "base_uri": "https://localhost:8080/"
        },
        "id": "ReLn_5_cEYhK",
        "outputId": "be735e09-3a91-4f65-e6b0-bd03f8346fcd"
      },
      "execution_count": null,
      "outputs": [
        {
          "output_type": "stream",
          "name": "stdout",
          "text": [
            "Ingresa el primer número: 12\n",
            "Ingresa el segundo número: 21\n",
            "1221\n"
          ]
        }
      ]
    },
    {
      "cell_type": "code",
      "source": [
        "my_input = input(\"Ingresa algo: \") # Entrada de ejemplo: hola\n",
        "print(my_input * 3) # Salida Esperada: holahola\n",
        "\n"
      ],
      "metadata": {
        "colab": {
          "base_uri": "https://localhost:8080/"
        },
        "id": "XubjOhQGGWpv",
        "outputId": "9dd48692-0f88-47f8-a25e-b12358f4c0d8"
      },
      "execution_count": null,
      "outputs": [
        {
          "output_type": "stream",
          "name": "stdout",
          "text": [
            "Ingresa algo: hola\n",
            "holaholahola\n"
          ]
        }
      ]
    },
    {
      "cell_type": "code",
      "source": [
        "x = int(input(\"Ingresa un número: \")) # El usuario ingresa un 2\n",
        "print(x * \"5\")\n",
        "\n"
      ],
      "metadata": {
        "colab": {
          "base_uri": "https://localhost:8080/"
        },
        "id": "JHdGwyfdHCwH",
        "outputId": "5213acd4-efb8-4210-83d1-4fa709fdb257"
      },
      "execution_count": null,
      "outputs": [
        {
          "output_type": "stream",
          "name": "stdout",
          "text": [
            "Ingresa un número: 2\n",
            "55\n"
          ]
        }
      ]
    },
    {
      "cell_type": "code",
      "source": [
        "num = int(input(\"Ingresa un número: \"))\n",
        "if num % 2 == 0:\n",
        "    print(f\"{num} es un número par\")\n",
        "else:\n",
        "    print(f\"{num} es un número impar\")\n"
      ],
      "metadata": {
        "id": "ht0Tqh5Jb-yx",
        "outputId": "8dec0882-490f-4062-b010-c0436bcdad0d",
        "colab": {
          "base_uri": "https://localhost:8080/"
        }
      },
      "execution_count": null,
      "outputs": [
        {
          "output_type": "stream",
          "name": "stdout",
          "text": [
            "Ingresa un número: 3\n",
            "3 es un número impar\n"
          ]
        }
      ]
    },
    {
      "cell_type": "code",
      "source": [
        "num = int(input(\"Ingresa un número: \"))\n",
        "for i in range(1, 11):\n",
        "    print(f\"{num} x {i} = {num * i}\")\n"
      ],
      "metadata": {
        "colab": {
          "base_uri": "https://localhost:8080/"
        },
        "id": "KBgo8sFaXEHg",
        "outputId": "4212cf0a-69c8-4400-bbe9-9f1cdc694af7"
      },
      "execution_count": null,
      "outputs": [
        {
          "output_type": "stream",
          "name": "stdout",
          "text": [
            "Ingresa un número: 3\n",
            "3 x 1 = 3\n",
            "3 x 2 = 6\n",
            "3 x 3 = 9\n",
            "3 x 4 = 12\n",
            "3 x 5 = 15\n",
            "3 x 6 = 18\n",
            "3 x 7 = 21\n",
            "3 x 8 = 24\n",
            "3 x 9 = 27\n",
            "3 x 10 = 30\n"
          ]
        }
      ]
    },
    {
      "cell_type": "code",
      "source": [
        "num = int(input(\"Ingresa un número: \"))\n",
        "es_primo = num > 1 and all(num % i != 0 for i in range(2, int(num**0.5) + 1))\n",
        "print(f\"El número {num} {'es primo' if es_primo else 'no es primo'}\")\n"
      ],
      "metadata": {
        "colab": {
          "base_uri": "https://localhost:8080/"
        },
        "id": "CvnIOtD2iC_y",
        "outputId": "2c664cfc-b25e-422c-8b00-34c73a15faac"
      },
      "execution_count": null,
      "outputs": [
        {
          "output_type": "stream",
          "name": "stdout",
          "text": [
            "Ingresa un número: 28\n",
            "El número 28 no es primo\n"
          ]
        }
      ]
    },
    {
      "cell_type": "code",
      "source": [
        "import random\n",
        "print(f\"Número aleatorio: {random.randint(1, 100)}\")\n"
      ],
      "metadata": {
        "id": "dy7YijowVVDC",
        "outputId": "a61f58a6-bde1-44bd-89f0-4f57f5793ca0",
        "colab": {
          "base_uri": "https://localhost:8080/"
        }
      },
      "execution_count": null,
      "outputs": [
        {
          "output_type": "stream",
          "name": "stdout",
          "text": [
            "Número aleatorio: 72\n"
          ]
        }
      ]
    },
    {
      "cell_type": "code",
      "source": [
        "num = input(\"Ingresa un número: \")\n",
        "suma = sum(int(digito) for digito in num)\n",
        "print(f\"La suma de los dígitos es {suma}\")\n"
      ],
      "metadata": {
        "id": "TYYR58HTmz_2",
        "outputId": "1524081a-d0fc-4cb0-aadc-d94aa6609688",
        "colab": {
          "base_uri": "https://localhost:8080/"
        }
      },
      "execution_count": null,
      "outputs": [
        {
          "output_type": "stream",
          "name": "stdout",
          "text": [
            "Ingresa un número: 222\n",
            "La suma de los dígitos es 6\n"
          ]
        }
      ]
    },
    {
      "cell_type": "code",
      "source": [
        "numeros = [10, 20, 30, 40, 50]\n",
        "for num in numeros:\n",
        "    print(num)\n"
      ],
      "metadata": {
        "colab": {
          "base_uri": "https://localhost:8080/"
        },
        "id": "3I5dyd_jS63p",
        "outputId": "9ed9ada7-8505-4843-fb3c-1d7b5dd7119e"
      },
      "execution_count": null,
      "outputs": [
        {
          "output_type": "stream",
          "name": "stdout",
          "text": [
            "10\n",
            "20\n",
            "30\n",
            "40\n",
            "50\n"
          ]
        }
      ]
    },
    {
      "cell_type": "code",
      "source": [
        "numeros = list(map(int, input(\"Ingresa números separados por espacio: \").split()))\n",
        "print(f\"Números ordenados: {sorted(numeros)}\")\n"
      ],
      "metadata": {
        "colab": {
          "base_uri": "https://localhost:8080/"
        },
        "id": "piuaGS46Wn1J",
        "outputId": "fd3e23f5-88e5-4b52-d856-961fd3840b14"
      },
      "execution_count": null,
      "outputs": [
        {
          "output_type": "stream",
          "name": "stdout",
          "text": [
            "Ingresa números separados por espacio: 5 56 78 56 12 \n",
            "Números ordenados: [5, 12, 56, 56, 78]\n"
          ]
        }
      ]
    },
    {
      "cell_type": "markdown",
      "source": [
        " 1. Imprimir un mensaje\n",
        "Escribe un programa que imprima \"Hola, mundo\" en la consola"
      ],
      "metadata": {
        "id": "s9B0IcKMjb-G"
      }
    },
    {
      "cell_type": "code",
      "source": [
        "print (f'\"Hola,mundo\"')"
      ],
      "metadata": {
        "colab": {
          "base_uri": "https://localhost:8080/"
        },
        "id": "ukBDlU3ajc6b",
        "outputId": "ef098e73-9c49-40c3-e9a2-03a3c0954785"
      },
      "execution_count": null,
      "outputs": [
        {
          "output_type": "stream",
          "name": "stdout",
          "text": [
            "\"Hola,mundo\"\n"
          ]
        }
      ]
    },
    {
      "cell_type": "markdown",
      "source": [
        " 2. Operaciones básicas\n",
        "Pide al usuario dos números y muestra su suma, resta, multiplicación y división.\n",
        "\n"
      ],
      "metadata": {
        "id": "AzyautAUkKaI"
      }
    },
    {
      "cell_type": "code",
      "source": [
        "num1  = int ( input ( \"Ingresa el primer número:\"))\n",
        "num2  = int ( input ( \"Ingresa el segundo número:\"))\n",
        "suma = num1 + num2\n",
        "resta = num1 - num2\n",
        "multiplicacion = num1 * num2\n",
        "division = num1 / num2\n",
        "\n",
        "print (f\"La suma es {suma}\")\n",
        "print (f\"La resta es {resta}\")\n",
        "print (f\"La multiplicacion es {multiplicacion}\")\n",
        "print (f\"La division es {division}\")"
      ],
      "metadata": {
        "colab": {
          "base_uri": "https://localhost:8080/"
        },
        "id": "F3JQZ3fTkPLS",
        "outputId": "5bcdeb65-4aeb-41b4-8ce6-6c49c375e643"
      },
      "execution_count": null,
      "outputs": [
        {
          "output_type": "stream",
          "name": "stdout",
          "text": [
            "Ingresa el primer número:2\n",
            "Ingresa el segundo número:8\n",
            "La suma es 10\n",
            "La resta es -6\n",
            "La multiplicacion es 16\n",
            "La division es 0.25\n"
          ]
        }
      ]
    },
    {
      "cell_type": "markdown",
      "source": [
        "Conversión de temperaturas\n",
        "Convierte una temperatura ingresada en grados Celsius a Fahrenheit.\n",
        "\n"
      ],
      "metadata": {
        "id": "ZpiyXSdjvRQW"
      }
    },
    {
      "cell_type": "code",
      "source": [
        "celsius = float ( input ( \" Ingrese la temperatura en celsius: \"))\n",
        "conversion = 1.8 * celsius + 32\n",
        "\n",
        "print( f\" La conversión de celsius a fahrenheit es : {conversion}\")"
      ],
      "metadata": {
        "id": "cbFUzgHbkPMY",
        "colab": {
          "base_uri": "https://localhost:8080/"
        },
        "outputId": "564efc26-7de9-4efb-902e-4ecb33d48727"
      },
      "execution_count": null,
      "outputs": [
        {
          "output_type": "stream",
          "name": "stdout",
          "text": [
            " Ingrese la temperatura en celsius :23\n",
            " La conversión de celsius a fahrenheit es :  73.4\n"
          ]
        }
      ]
    },
    {
      "cell_type": "markdown",
      "source": [
        "Determinar si un número es par o impar\n",
        "Pide un número al usuario e indica si es par o impar.\n",
        "\n"
      ],
      "metadata": {
        "id": "revy6rnQwkOs"
      }
    },
    {
      "cell_type": "code",
      "source": [
        "numero = int (input (\"Ingrese un numero: \"))\n",
        "if numero % 2 == 0 :\n",
        "   print ( \"El numero es par\")\n",
        "else:\n",
        "   print (\"El numero es impar\")"
      ],
      "metadata": {
        "id": "-nTeLF2vwpEl",
        "colab": {
          "base_uri": "https://localhost:8080/"
        },
        "outputId": "597f9228-2755-4b9a-8dc0-c4436be9a2d9"
      },
      "execution_count": null,
      "outputs": [
        {
          "output_type": "stream",
          "name": "stdout",
          "text": [
            "Ingrese un numero: 23\n",
            "El numero es impar\n"
          ]
        }
      ]
    },
    {
      "cell_type": "markdown",
      "source": [
        "Calcular el área de un triángulo\n",
        "Solicita la base y la altura de un triángulo y calcula su área."
      ],
      "metadata": {
        "id": "_cvDs3RT0wKO"
      }
    },
    {
      "cell_type": "code",
      "source": [
        "base = float( input (\"Ingrese la base del triángulo: \"))\n",
        "altura = float ( input (\"Ingrese la altura del triágulo: \"))\n",
        "area = ( base * altura ) / 2\n",
        "\n",
        "print (f\"El área del triángulo es: {area}\")\n"
      ],
      "metadata": {
        "colab": {
          "base_uri": "https://localhost:8080/"
        },
        "id": "mWtWOrWY02A0",
        "outputId": "e4e29420-912d-467e-87f3-0480c69190a0"
      },
      "execution_count": null,
      "outputs": [
        {
          "output_type": "stream",
          "name": "stdout",
          "text": [
            "Ingrese la base del triángulo: 3\n",
            "Ingrese la altura del triágulo: 12\n",
            "El área del triángulo es: 18.0\n"
          ]
        }
      ]
    },
    {
      "cell_type": "markdown",
      "source": [
        "Calcular el índice de masa corporal (IMC)\n",
        "Pide al usuario su peso y altura y calcula su IMC usando la fórmula:\n",
        "\n",
        "𝐼\n",
        "𝑀\n",
        "𝐶\n",
        "=\n",
        "peso (kg)\n",
        "altura\n",
        "2\n",
        "(\n",
        "𝑚\n",
        "2\n",
        ")\n",
        "IMC=\n",
        "altura\n",
        "2\n",
        " (m\n",
        "2\n",
        " )\n",
        "peso (kg)\n",
        "​\n",
        "\n"
      ],
      "metadata": {
        "id": "eeEZU5_o1tdO"
      }
    },
    {
      "cell_type": "code",
      "source": [
        "peso = float ( input (\" Ingrese su peso (kg): \"))\n",
        "altura = float ( input (\" Ingrese su altura (cm): \"))\n",
        "imc = peso / altura ** 2\n",
        "\n",
        "print (f\"Su imc es: {imc}\")\n"
      ],
      "metadata": {
        "colab": {
          "base_uri": "https://localhost:8080/"
        },
        "id": "IOrMITAd1zVa",
        "outputId": "76007cc8-2cfd-4c2c-b8f8-34c7a59688c3"
      },
      "execution_count": null,
      "outputs": [
        {
          "output_type": "stream",
          "name": "stdout",
          "text": [
            " Ingrese su peso (kg): 67\n",
            " Ingrese su altura (cm): 150\n",
            "Su imc es: 0.002977777777777778\n"
          ]
        }
      ]
    },
    {
      "cell_type": "markdown",
      "source": [
        "Contar vocales en una palabra\n",
        "Pide al usuario una palabra y cuenta cuántas vocales contiene.\n",
        "En este caso utilizaremos .**lower** porque sirve par convertir toda la palabra en minúsicula para que la comparación sea insensible a las mayúsculas.\n"
      ],
      "metadata": {
        "id": "k_k4JFdP27c3"
      }
    },
    {
      "cell_type": "code",
      "source": [
        "palabra = input (\" Ingrese una palabra: \").lower()\n",
        "vocales = \"aeiou\"\n",
        "contador = sum( 1 for letra  in palabra if letra in vocales )\n",
        "\n",
        "print (f\" Hay {contador} en la palabra {palabra}\")\n",
        "\n"
      ],
      "metadata": {
        "colab": {
          "base_uri": "https://localhost:8080/"
        },
        "id": "UG0dKCtn2-gx",
        "outputId": "fd42d2ed-4300-450e-d2ec-0ab393512864"
      },
      "execution_count": null,
      "outputs": [
        {
          "output_type": "stream",
          "name": "stdout",
          "text": [
            " Ingrese una palabra: hipopotamo\n",
            " Hay 5 en la palabra hipopotamo\n"
          ]
        }
      ]
    },
    {
      "cell_type": "markdown",
      "source": [
        "Invertir una cadena\n",
        "Solicita una palabra y muéstrala al revés.\n",
        "Se utiliza la tecnica **slicing** ( rebanado de cadena para invertir el texto)"
      ],
      "metadata": {
        "id": "jq1rZwmL5IsV"
      }
    },
    {
      "cell_type": "code",
      "source": [
        "palabra = input (\" Ingrese una palabra: \")\n",
        "palabra_invertida = palabra [::-1]\n",
        "\n",
        "print (f\"La palabra invertida es: {palabra_invertida}\")"
      ],
      "metadata": {
        "id": "H2tIz0cJ5LV-"
      },
      "execution_count": null,
      "outputs": []
    },
    {
      "cell_type": "markdown",
      "source": [
        "\n",
        "Genera un número aleatorio entre 1 y 100 e imprímelo.\n",
        "En este caso se importará la biblioteca **random** , que es un módulo estándar de Python que proporciona funciones para generar número aleatorio.\n",
        "\n",
        "y **random.randint (a,b)** genera un número entero aleatorio entre a y b incluyendo ambos extremos , en este caso genera un número aleatorio entre 1 al 100\n"
      ],
      "metadata": {
        "id": "t03E_exo6IJv"
      }
    },
    {
      "cell_type": "code",
      "source": [
        "import random\n",
        "\n",
        "print (f\" Numero aleatorio : {random.randint (1,100)}\")\n",
        "\n"
      ],
      "metadata": {
        "colab": {
          "base_uri": "https://localhost:8080/"
        },
        "id": "2_4BSzFp6JFD",
        "outputId": "1c5581f5-ea19-4771-e42a-7d363e2556a4"
      },
      "execution_count": null,
      "outputs": [
        {
          "output_type": "stream",
          "name": "stdout",
          "text": [
            " Numero aleatorio : 52\n"
          ]
        }
      ]
    },
    {
      "cell_type": "markdown",
      "source": [
        "Tabla de multiplicar\n",
        "Pide un número y muestra su tabla de multiplicar del 1 al 10.\n",
        "\n"
      ],
      "metadata": {
        "id": "6Wx6mPcD98mU"
      }
    },
    {
      "cell_type": "code",
      "source": [
        "numero = int (input (\" Ingrese un numero: \"))\n",
        "for i in range (1,11):\n",
        "  print (f\" {numero} x {i} = {numero*i}\")"
      ],
      "metadata": {
        "colab": {
          "base_uri": "https://localhost:8080/"
        },
        "id": "6yZbGmrh99Xm",
        "outputId": "ba0f5496-9e3b-4610-a9c1-f915d51b284b"
      },
      "execution_count": null,
      "outputs": [
        {
          "output_type": "stream",
          "name": "stdout",
          "text": [
            " Ingrese un numero: 10\n",
            " 10 x 1 = 10\n",
            " 10 x 2 = 20\n",
            " 10 x 3 = 30\n",
            " 10 x 4 = 40\n",
            " 10 x 5 = 50\n",
            " 10 x 6 = 60\n",
            " 10 x 7 = 70\n",
            " 10 x 8 = 80\n",
            " 10 x 9 = 90\n",
            " 10 x 10 = 100\n"
          ]
        }
      ]
    },
    {
      "cell_type": "markdown",
      "source": [
        "Determinar si un número es primo :\n",
        "Pide un número e indica si es primo o no."
      ],
      "metadata": {
        "id": "qxMaxZFbAKzy"
      }
    },
    {
      "cell_type": "code",
      "source": [
        "num = int (input (\"Ingrese un número: \"))\n",
        "primo = num > 1 and all( num % i != 0 for i in range (2,int(num*0.5) +1) )\n",
        "\n",
        "print (f\"El número {num} {'es primo' if primo else 'no es primo'}\")"
      ],
      "metadata": {
        "colab": {
          "base_uri": "https://localhost:8080/"
        },
        "id": "SyYH4okxAR3x",
        "outputId": "4f5806d7-2ab0-4738-86eb-c246b676ba2a"
      },
      "execution_count": null,
      "outputs": [
        {
          "output_type": "stream",
          "name": "stdout",
          "text": [
            "Ingrese un número: 8\n",
            "El número 8 no es primo\n"
          ]
        }
      ]
    },
    {
      "cell_type": "markdown",
      "source": [
        "Sumar los dígitos de un número:\n",
        "Pide al usuario un número y suma sus dígitos.\n",
        "\n"
      ],
      "metadata": {
        "id": "blYhbsUnDOYo"
      }
    },
    {
      "cell_type": "code",
      "source": [
        "numero = (input (\"Ingrese un número: \"))\n",
        "suma = sum(int(digito) for digito in numero )\n",
        "\n",
        "print (f\"La suma del {numero} es: {suma}\")"
      ],
      "metadata": {
        "colab": {
          "base_uri": "https://localhost:8080/"
        },
        "id": "FJHii7ErDUK7",
        "outputId": "a8a77386-6f92-47bc-99b5-719bed43ee83"
      },
      "execution_count": null,
      "outputs": [
        {
          "output_type": "stream",
          "name": "stdout",
          "text": [
            "Ingrese un número: 5688\n",
            "La suma del 5688 es: 27\n"
          ]
        }
      ]
    },
    {
      "cell_type": "markdown",
      "source": [
        "Contar palabras en una oración:\n",
        "Pide una oración y cuenta cuántas palabras tiene.\n",
        "utilizaremos **oracion.split** ( separa una cadena de texto en una lista de palabras usando espacio en blanco como separadores por defecto."
      ],
      "metadata": {
        "id": "OYqmfVwQFSIb"
      }
    },
    {
      "cell_type": "code",
      "source": [
        "oracion = input (\"Ingrese una oración: \")\n",
        "palabras = oracion.split()\n",
        "\n",
        "print (f\"La oración tiene {len(palabras)} palabras\")"
      ],
      "metadata": {
        "id": "oftd0FmYFdv_"
      },
      "execution_count": null,
      "outputs": []
    },
    {
      "cell_type": "markdown",
      "source": [
        "Ordenar una lista de números :\n",
        "Pide al usuario varios números separados por espacio, ordénalos y muéstralos."
      ],
      "metadata": {
        "id": "3k9wrCi3GhIU"
      }
    },
    {
      "cell_type": "code",
      "source": [
        "numero = list (map (int ,input (\" Ingrese numeros separados por un espacio\").split ()))\n",
        "print (f\"Números ordenados: {sorted(numero)}\")\n",
        "\n"
      ],
      "metadata": {
        "colab": {
          "base_uri": "https://localhost:8080/"
        },
        "id": "D6dGepMbGlnh",
        "outputId": "ae9a9d02-944a-4175-a6f1-97e7c4ff42d6"
      },
      "execution_count": null,
      "outputs": [
        {
          "output_type": "stream",
          "name": "stdout",
          "text": [
            " Ingrese numeros separados por un espacio1 12 14 12 14 16 178\n",
            "Números ordenados: [1, 12, 12, 14, 14, 16, 178]\n"
          ]
        }
      ]
    },
    {
      "cell_type": "markdown",
      "source": [
        " Conversión de millas a kilómetros:\n",
        "Convierte millas a kilómetros (1 milla = 1.60934 km).\n",
        "\n"
      ],
      "metadata": {
        "id": "smLPC-cMREz-"
      }
    },
    {
      "cell_type": "code",
      "source": [
        "mun = float ( input (\" Ingrese las millas: \"))\n",
        "kilometros = num * 1.60934\n",
        "\n",
        "print (f\"La conversión de millas a kilometros es: {kilometros}\")"
      ],
      "metadata": {
        "colab": {
          "base_uri": "https://localhost:8080/"
        },
        "id": "xRu_9GCCRiNX",
        "outputId": "2716d62f-2bb8-44b8-ad7a-da0ae580c2e7"
      },
      "execution_count": null,
      "outputs": [
        {
          "output_type": "stream",
          "name": "stdout",
          "text": [
            " Ingrese las millas: 1344\n",
            "La conversión de millas a kilometros es: 12.87472\n"
          ]
        }
      ]
    },
    {
      "cell_type": "markdown",
      "source": [
        "Factorial de un número:\n",
        "Pide un número entero positivo y calcula su factorial."
      ],
      "metadata": {
        "id": "3Ih6T9EDSHRl"
      }
    },
    {
      "cell_type": "code",
      "source": [
        "num = int (input (\"Ingrese un numero entero positivo \"))\n",
        "factorial = 1\n",
        "for i in range (1,num+1):\n",
        "  factorial *= i\n",
        "\n",
        "print (f\"El factorial de {num} es: {factorial}\")"
      ],
      "metadata": {
        "colab": {
          "base_uri": "https://localhost:8080/"
        },
        "id": "oF6UmrN8SLtj",
        "outputId": "08a10aa1-d08b-40af-f2a4-4a2e78e5d3c2"
      },
      "execution_count": null,
      "outputs": [
        {
          "output_type": "stream",
          "name": "stdout",
          "text": [
            "Ingrese un numero entero positivo 5\n",
            "El factorial de 5 es: 120\n"
          ]
        }
      ]
    },
    {
      "cell_type": "markdown",
      "source": [
        " Adivinar un número:\n",
        "\n",
        "Genera un número aleatorio entre 1 y 50 y deja que el usuario intente adivinarlo hasta que lo consiga"
      ],
      "metadata": {
        "id": "jtNoQA3HTRPC"
      }
    },
    {
      "cell_type": "code",
      "source": [
        "import random\n",
        "\n",
        "numero_secreto = random.randint(1, 50)\n",
        "intentos = 0\n",
        "\n",
        "print(\"¡Bienvenido al juego de adivinar el número!\")\n",
        "print(\"Estoy pensando en un número entre 1 y 50.\")\n",
        "\n",
        "while True:\n",
        "    intentos += 1\n",
        "    try:\n",
        "        guess = int(input(\"Ingresa tu adivinanza: \"))\n",
        "    except ValueError:\n",
        "        print(\"Entrada inválida. Por favor, ingresa un número.\")\n",
        "        continue\n",
        "\n",
        "    if guess < numero_secreto:\n",
        "        print(\"Demasiado bajo. Intenta de nuevo.\")\n",
        "    elif guess > numero_secreto:\n",
        "        print(\"Demasiado alto. Intenta de nuevo.\") # This line was not indented properly\n",
        "    else:\n",
        "        print(f\"¡Felicidades! Adivinaste el número en {intentos} intentos.\")\n",
        "        break"
      ],
      "metadata": {
        "colab": {
          "base_uri": "https://localhost:8080/"
        },
        "id": "_B9dWH_dVrkf",
        "outputId": "19aa8e89-6882-4266-c66b-b7f135b0b0b9"
      },
      "execution_count": null,
      "outputs": [
        {
          "output_type": "stream",
          "name": "stdout",
          "text": [
            "¡Bienvenido al juego de adivinar el número!\n",
            "Estoy pensando en un número entre 1 y 50.\n",
            "Ingresa tu adivinanza: 45\n",
            "Demasiado alto. Intenta de nuevo.\n",
            "Ingresa tu adivinanza: 23\n",
            "Demasiado alto. Intenta de nuevo.\n",
            "Ingresa tu adivinanza: 20\n",
            "Demasiado alto. Intenta de nuevo.\n",
            "Ingresa tu adivinanza: 12\n",
            "¡Felicidades! Adivinaste el número en 4 intentos.\n"
          ]
        }
      ]
    },
    {
      "cell_type": "markdown",
      "source": [
        "Contador de letras en una palabra:\n",
        "Pide al usuario una palabra y una letra, cuenta cuántas veces aparece la letra en la palabra"
      ],
      "metadata": {
        "id": "8j1Uc_bVaJni"
      }
    },
    {
      "cell_type": "code",
      "source": [
        "palabra = input(\"Ingrese una palabra: \")\n",
        "letra = input(\"Ingrese una letra: \")\n",
        "\n",
        "contador = sum(1 for letra_palabra in palabra if letra_palabra == letra)\n",
        "\n",
        "print(f\"La letra '{letra}' aparece {contador} veces en la palabra '{palabra}'.\")\n"
      ],
      "metadata": {
        "colab": {
          "base_uri": "https://localhost:8080/"
        },
        "id": "1ksKabc4aPHB",
        "outputId": "f71cc13f-adce-4b46-bac2-042dc46187c4"
      },
      "execution_count": null,
      "outputs": [
        {
          "output_type": "stream",
          "name": "stdout",
          "text": [
            "Ingrese una palabra: hola\n",
            "Ingrese una letra: h\n",
            "La letra 'h' aparece 1 veces en la palabra 'hola'.\n"
          ]
        }
      ]
    },
    {
      "cell_type": "markdown",
      "source": [],
      "metadata": {
        "id": "A2TGLlNeaoC0"
      }
    },
    {
      "cell_type": "markdown",
      "source": [
        " Calculadora de edad en días:\n",
        "Pide al usuario su edad y muestra cuántos días ha vivido aproximadamente (sin contar años bisiestos)."
      ],
      "metadata": {
        "id": "rS0brqTuaoES"
      }
    },
    {
      "cell_type": "code",
      "source": [
        "edad = int(input(\"Ingrese su edad: \"))\n",
        "dias_vividos = edad * 365  # Assuming 365 days in a year\n",
        "\n",
        "print(f\"Usted ha vivido aproximadamente {dias_vividos} días.\")\n"
      ],
      "metadata": {
        "colab": {
          "base_uri": "https://localhost:8080/"
        },
        "id": "V0m7R6D1aqyb",
        "outputId": "27bb6462-c437-473f-d8fe-d800c64e44b6"
      },
      "execution_count": null,
      "outputs": [
        {
          "output_type": "stream",
          "name": "stdout",
          "text": [
            "Ingrese su edad: 1998\n",
            "Usted ha vivido aproximadamente 729270 días.\n"
          ]
        }
      ]
    },
    {
      "cell_type": "markdown",
      "source": [
        "Escribe un programa que imprima tu nombre en pantalla."
      ],
      "metadata": {
        "id": "N0VimoSOb8zN"
      }
    },
    {
      "cell_type": "code",
      "source": [
        "print (f'\"Lilina Estrella Hernandez Torres\"')"
      ],
      "metadata": {
        "colab": {
          "base_uri": "https://localhost:8080/"
        },
        "id": "skJPeyd0b9cO",
        "outputId": "02586c0e-9751-43a8-f562-9ac475d381a5"
      },
      "execution_count": null,
      "outputs": [
        {
          "output_type": "stream",
          "name": "stdout",
          "text": [
            "\"Lilina Estrella Hernandez Torres\"\n"
          ]
        }
      ]
    },
    {
      "cell_type": "markdown",
      "source": [
        "Pide dos números al usuario y muestra la suma."
      ],
      "metadata": {
        "id": "GQts0Gykcenx"
      }
    },
    {
      "cell_type": "code",
      "source": [
        "num1 = int(input (\"Ingrese el primer numero: \"))\n",
        "num2 = int(input(\"Ingrese el segundo numero: \"))\n",
        "\n",
        "suma = num1 + num2\n",
        "\n",
        "print (f\"La suma es: {suma}\")"
      ],
      "metadata": {
        "colab": {
          "base_uri": "https://localhost:8080/"
        },
        "id": "Juwz5P53ciqB",
        "outputId": "85be8b31-3076-4a2a-ceb2-145e3462fd64"
      },
      "execution_count": null,
      "outputs": [
        {
          "output_type": "stream",
          "name": "stdout",
          "text": [
            "Ingrese el primer numero: 3\n",
            "Ingrese el segundo numero: 6\n",
            "La suma es: 9\n"
          ]
        }
      ]
    },
    {
      "cell_type": "markdown",
      "source": [
        "Solicita dos números y muestra su producto."
      ],
      "metadata": {
        "id": "OFMJtKBfdAvj"
      }
    },
    {
      "cell_type": "code",
      "source": [
        "num1 = int(input (\"Ingrese el primer numero: \"))\n",
        "num2 = int(input(\"Ingrese el segundo numero: \"))\n",
        "\n",
        "producto = num1 * num2\n",
        "\n",
        "print (f\"El producto es : {producto}\")"
      ],
      "metadata": {
        "colab": {
          "base_uri": "https://localhost:8080/"
        },
        "id": "_U8Z-guFdD5K",
        "outputId": "cce68c78-9c42-4510-cb91-a4409703fdeb"
      },
      "execution_count": null,
      "outputs": [
        {
          "output_type": "stream",
          "name": "stdout",
          "text": [
            "Ingrese el primer numero: 3\n",
            "Ingrese el segundo numero: 5\n",
            "El producto es : 15\n"
          ]
        }
      ]
    },
    {
      "cell_type": "markdown",
      "source": [
        "Pide un número y muestra su doble."
      ],
      "metadata": {
        "id": "d4kQD9LPdW9_"
      }
    },
    {
      "cell_type": "code",
      "source": [
        "num = int(input (\"Ingrese un numero: \"))\n",
        "doble = num * 2\n",
        "\n",
        "print (f\"El doble es: {doble}\")"
      ],
      "metadata": {
        "colab": {
          "base_uri": "https://localhost:8080/"
        },
        "id": "hgv090F0dZF_",
        "outputId": "73ce22e7-43fe-44fd-fe62-375c130be817"
      },
      "execution_count": null,
      "outputs": [
        {
          "output_type": "stream",
          "name": "stdout",
          "text": [
            "Ingrese un numero: 2\n",
            "El doble es: 4\n"
          ]
        }
      ]
    },
    {
      "cell_type": "markdown",
      "source": [
        "Pide al usuario un número y muéstralo en pantalla.\n",
        "\n"
      ],
      "metadata": {
        "id": "5YI-1EDldvHD"
      }
    },
    {
      "cell_type": "code",
      "source": [
        "usuario = int(input(\"Ingrese un numero: \"))\n",
        "print (f\"El numero ingresado es: {usuario}\")"
      ],
      "metadata": {
        "colab": {
          "base_uri": "https://localhost:8080/"
        },
        "id": "0xrDsDpTd1Jh",
        "outputId": "f929a7a8-f9ea-4b01-c904-069e136e7a9e"
      },
      "execution_count": null,
      "outputs": [
        {
          "output_type": "stream",
          "name": "stdout",
          "text": [
            "Ingrese un numero: 931616354\n",
            "El numero ingresado es: 931616354\n"
          ]
        }
      ]
    },
    {
      "cell_type": "markdown",
      "source": [
        "Solicita el nombre del usuario y muéstralo en pantalla."
      ],
      "metadata": {
        "id": "he2pARfPeHUN"
      }
    },
    {
      "cell_type": "code",
      "source": [
        "usuario  = input (\"Ingrese su nombre: \")\n",
        "\n",
        "print (f\"El nombre del usuario es: {usuario}\")"
      ],
      "metadata": {
        "colab": {
          "base_uri": "https://localhost:8080/"
        },
        "id": "iWWTj92JeJlC",
        "outputId": "9a536124-e3aa-4d62-c504-556e0e16bbfd"
      },
      "execution_count": null,
      "outputs": [
        {
          "output_type": "stream",
          "name": "stdout",
          "text": [
            "Ingrese su nombre: Amado carlos hernandez torres\n",
            "El nombre del usuario es: Amado carlos hernandez torres\n"
          ]
        }
      ]
    },
    {
      "cell_type": "markdown",
      "source": [
        "Pide dos palabras al usuario y muestra la combinación de ambas.\n",
        "\n"
      ],
      "metadata": {
        "id": "p5LBikPGed0I"
      }
    },
    {
      "cell_type": "code",
      "source": [
        "palabra1 = input(\"Ingrese una palabra: \")\n",
        "palabra2 = input(\"Ingrese una palabra: \")\n",
        "\n",
        "print(f\"La combinación de las palabras es: {palabra1} {palabra2}\")"
      ],
      "metadata": {
        "colab": {
          "base_uri": "https://localhost:8080/"
        },
        "id": "qumEcgDselPj",
        "outputId": "e9d6eecd-1451-456f-b6d8-d340e620ea82"
      },
      "execution_count": null,
      "outputs": [
        {
          "output_type": "stream",
          "name": "stdout",
          "text": [
            "Ingrese una palabra: Te\n",
            "Ingrese una palabra: Amo\n",
            "La combinación de las palabras es: Te Amo\n"
          ]
        }
      ]
    },
    {
      "cell_type": "markdown",
      "source": [
        "Pide un número al usuario y muestra su cuadrado."
      ],
      "metadata": {
        "id": "a8NCv_uTfhX4"
      }
    },
    {
      "cell_type": "code",
      "source": [
        "num =int(input(\"Ingrese un numero: \"))\n",
        "cuadrado = num **2\n",
        "\n",
        "print (f\"El cuadrado de {num} es: {cuadrado}\")"
      ],
      "metadata": {
        "colab": {
          "base_uri": "https://localhost:8080/"
        },
        "id": "_24zTMbxfxTG",
        "outputId": "8873c321-6787-4a60-a280-68ffcda2a3a4"
      },
      "execution_count": null,
      "outputs": [
        {
          "output_type": "stream",
          "name": "stdout",
          "text": [
            "Ingrese un numero: 7\n",
            "El cuadrado de 7 es: 49\n"
          ]
        }
      ]
    },
    {
      "cell_type": "markdown",
      "source": [
        "Solicita dos números y muestra el resultado de la división.\n",
        "\n"
      ],
      "metadata": {
        "id": "PWgmVKFIhNoG"
      }
    },
    {
      "cell_type": "code",
      "source": [
        "num1 = float(input(\"Ingrese el primer numero: \"))\n",
        "num2 = float(input(\"Ingrese el segundo numero: \"))\n",
        "\n",
        "division = num1 / num2\n",
        "print (f\"La division es: {division}\")"
      ],
      "metadata": {
        "colab": {
          "base_uri": "https://localhost:8080/"
        },
        "id": "mJUisk3Aj5-Z",
        "outputId": "2b885bbc-6ea7-4788-dcbb-8531637b6cfc"
      },
      "execution_count": null,
      "outputs": [
        {
          "output_type": "stream",
          "name": "stdout",
          "text": [
            "Ingrese el primer numero: 3\n",
            "Ingrese el segundo numero: 3\n",
            "La division es: 1.0\n"
          ]
        }
      ]
    },
    {
      "cell_type": "markdown",
      "source": [
        "Pide una frase y muéstrala en pantalla."
      ],
      "metadata": {
        "id": "qubMbdUNkbgX"
      }
    },
    {
      "cell_type": "code",
      "source": [
        "frase = input(\"Ingrese una frase: \")\n",
        "print (f\"La frase es: {frase}\")"
      ],
      "metadata": {
        "colab": {
          "base_uri": "https://localhost:8080/"
        },
        "id": "r_XB0n8kkebw",
        "outputId": "42be06b2-452b-4d2c-d1eb-37a5a6c2e9c2"
      },
      "execution_count": null,
      "outputs": [
        {
          "output_type": "stream",
          "name": "stdout",
          "text": [
            "Ingrese una frase: No quiero rendirme \n",
            "La frase es: No quiero rendirme \n"
          ]
        }
      ]
    },
    {
      "cell_type": "markdown",
      "source": [
        "Pide un número entero y conviértelo a un número decimal."
      ],
      "metadata": {
        "id": "Ka9TW-j4kqGT"
      }
    },
    {
      "cell_type": "code",
      "source": [
        "numero = int(input(\"Ingrese un numero entero: \"))\n",
        "numero_decimal = float(numero)\n",
        "\n",
        "print(f\"El numero decimal es: {numero_decimal}\")"
      ],
      "metadata": {
        "colab": {
          "base_uri": "https://localhost:8080/"
        },
        "id": "Zub-sZpHktTn",
        "outputId": "2119e639-6c04-4cb7-b875-2006f49c34ef"
      },
      "execution_count": null,
      "outputs": [
        {
          "output_type": "stream",
          "name": "stdout",
          "text": [
            "Ingrese un numero entero: 4\n",
            "El numero decimal es: 4.0\n"
          ]
        }
      ]
    },
    {
      "cell_type": "markdown",
      "source": [
        "Declara una variable con cualquier valor y muestra su tipo con type()."
      ],
      "metadata": {
        "id": "V_jovRj7k-6T"
      }
    },
    {
      "cell_type": "code",
      "source": [
        "variable = int(input(\"Ingrese el numero: \"))\n",
        "print (type(variable))"
      ],
      "metadata": {
        "colab": {
          "base_uri": "https://localhost:8080/"
        },
        "id": "EQ3f-wHklBhD",
        "outputId": "77e07169-2e64-4091-8e35-85762a9c4592"
      },
      "execution_count": null,
      "outputs": [
        {
          "output_type": "stream",
          "name": "stdout",
          "text": [
            "Ingrese el numero: 3\n",
            "<class 'int'>\n"
          ]
        }
      ]
    },
    {
      "cell_type": "markdown",
      "source": [
        "Pide un número y verifica si es mayor que 10.\n",
        "\n"
      ],
      "metadata": {
        "id": "-pL_hsq-lVuM"
      }
    },
    {
      "cell_type": "code",
      "source": [
        "numero = float (input(\"Ingrese un numero: \"))\n",
        "if numero >10:\n",
        "  print (f\"{numero} es mayor que 10\")\n",
        "else:\n",
        "  print (f\"{numero} es menor que 10\")"
      ],
      "metadata": {
        "colab": {
          "base_uri": "https://localhost:8080/"
        },
        "id": "CxGoM_PrlaL2",
        "outputId": "6db10f9f-102c-4ad4-851a-cb670cf0be7f"
      },
      "execution_count": null,
      "outputs": [
        {
          "output_type": "stream",
          "name": "stdout",
          "text": [
            "Ingrese un numero: 9.99\n",
            "9.99 es menor que 10\n"
          ]
        }
      ]
    },
    {
      "cell_type": "markdown",
      "source": [],
      "metadata": {
        "id": "wQDUlF3sly_2"
      }
    },
    {
      "cell_type": "markdown",
      "source": [
        "Pide dos números y muestra cuál es mayor o si son iguales."
      ],
      "metadata": {
        "id": "-jETygfFlzBq"
      }
    },
    {
      "cell_type": "code",
      "source": [
        "num1 = int(input(\"Ingrese el primer numero: \"))\n",
        "num2 = int(input(\"Ingrese el segudno numero: \"))\n",
        "\n",
        "\n",
        "if num1 > num2 :\n",
        "  print (f\"{num1} es mayor \")\n",
        "\n",
        "elif num1 < num2:\n",
        "  print (f\"{num2} es el mayor\")\n",
        "\n",
        "else:\n",
        "  print (\"Son iguales\")\n",
        "\n"
      ],
      "metadata": {
        "colab": {
          "base_uri": "https://localhost:8080/"
        },
        "id": "HCrcMETbl1LP",
        "outputId": "43056643-9b05-4f46-e7ef-c70cfaf85c95"
      },
      "execution_count": null,
      "outputs": [
        {
          "output_type": "stream",
          "name": "stdout",
          "text": [
            "Ingrese el primer numero: 10 \n",
            "Ingrese el segudno numero: 10\n",
            "Son iguales\n"
          ]
        }
      ]
    },
    {
      "cell_type": "markdown",
      "source": [],
      "metadata": {
        "id": "qvOEIH0qn8kl"
      }
    },
    {
      "cell_type": "markdown",
      "source": [
        "Pide una palabra y muestra su primer carácter."
      ],
      "metadata": {
        "id": "yqwsDsPTn8mn"
      }
    },
    {
      "cell_type": "code",
      "source": [
        "palabra  = input ( \"Ingrese la palabra: \")\n",
        "print (f\"El primer caracter es : {palabra[0]}\")\n",
        "\n"
      ],
      "metadata": {
        "colab": {
          "base_uri": "https://localhost:8080/"
        },
        "id": "yQ62mARCn-3Z",
        "outputId": "f4b7afc0-04a8-4274-86da-fefc8f0c11da"
      },
      "execution_count": null,
      "outputs": [
        {
          "output_type": "stream",
          "name": "stdout",
          "text": [
            "Ingrese la palabra: estrella \n",
            "El primer caracter es : e\n"
          ]
        }
      ]
    },
    {
      "cell_type": "markdown",
      "source": [
        "## Pide una palabra y muestra su último carácter."
      ],
      "metadata": {
        "id": "yrT3XPYOpBAO"
      }
    },
    {
      "cell_type": "code",
      "source": [
        "palabra  = input ( \"Ingrese la palabra: \")\n",
        "print (f\"El ultimo caracter es : {palabra[-1]}\")"
      ],
      "metadata": {
        "colab": {
          "base_uri": "https://localhost:8080/"
        },
        "id": "5_rHhkQ8pDUD",
        "outputId": "ceaf1735-2427-4d80-8446-dec65104a7cf"
      },
      "execution_count": null,
      "outputs": [
        {
          "output_type": "stream",
          "name": "stdout",
          "text": [
            "Ingrese la palabra: hola\n",
            "El ultimo caracter es : a\n"
          ]
        }
      ]
    },
    {
      "cell_type": "markdown",
      "source": [
        "Pide un texto y muéstralo tres veces."
      ],
      "metadata": {
        "id": "9BBldWM9p19T"
      }
    },
    {
      "cell_type": "code",
      "source": [
        "palabras = input(\"Ingrese un texto: \")\n",
        "texto = palabras * 3\n",
        "\n",
        "print (f\"{texto}\")"
      ],
      "metadata": {
        "colab": {
          "base_uri": "https://localhost:8080/"
        },
        "id": "3Qb1MqH8p4kz",
        "outputId": "483d6e0b-dcf8-4481-ab8b-2de3368e3627"
      },
      "execution_count": null,
      "outputs": [
        {
          "output_type": "stream",
          "name": "stdout",
          "text": [
            "Ingrese un texto: amor\n",
            "amoramoramor\n"
          ]
        }
      ]
    },
    {
      "cell_type": "markdown",
      "source": [
        "Pide una palabra y muestra cuántos caracteres tiene.\n",
        "\n"
      ],
      "metadata": {
        "id": "S0QQ97yOqgMz"
      }
    },
    {
      "cell_type": "code",
      "source": [
        "usuario = input(\"Ingrese una palabra: \")\n",
        "print (f\"La palabra {usuario} tiene {len(usuario)} caracteres\")"
      ],
      "metadata": {
        "colab": {
          "base_uri": "https://localhost:8080/"
        },
        "id": "Czkx6OnCqjl8",
        "outputId": "a4489cf4-7d74-484b-98d3-bbac493dfcc9"
      },
      "execution_count": null,
      "outputs": [
        {
          "output_type": "stream",
          "name": "stdout",
          "text": [
            "Ingrese una palabra: estrella \n",
            "La palabra estrella  tiene 9 caracteres\n"
          ]
        }
      ]
    },
    {
      "cell_type": "markdown",
      "source": [
        "Declara dos listas con números y muestra la unión de ambas.\n",
        "\n"
      ],
      "metadata": {
        "id": "489cNAXaq7kW"
      }
    },
    {
      "cell_type": "code",
      "source": [
        "lista1 = [1, 2, 3, 4, 5]\n",
        "lista2 = [3, 4, 5, 6, 7]\n",
        "\n",
        "# Concatenamos las listas para obtener la unión (conserva duplicados)\n",
        "lista_union = lista1 + lista2\n",
        "\n",
        "print(f\"La unión de las listas es: {lista_union}\")"
      ],
      "metadata": {
        "colab": {
          "base_uri": "https://localhost:8080/"
        },
        "id": "y6b1JVLMsUf5",
        "outputId": "35ca991a-77b5-40a0-bafe-8f0e7fc548ed"
      },
      "execution_count": null,
      "outputs": [
        {
          "output_type": "stream",
          "name": "stdout",
          "text": [
            "La unión de las listas es: [1, 2, 3, 4, 5, 3, 4, 5, 6, 7]\n"
          ]
        }
      ]
    },
    {
      "cell_type": "markdown",
      "source": [
        "Declara una lista de números y suma todos sus elementos.\n",
        "\n"
      ],
      "metadata": {
        "id": "JKlSXUzWtBBf"
      }
    },
    {
      "cell_type": "code",
      "source": [
        "numeros = [1, 2, 3, 4, 5]  # Declara la lista de números\n",
        "\n",
        "suma_total = sum(numeros)  # Usa la función sum() para sumar los elementos\n",
        "\n",
        "print(f\"La suma de los elementos de la lista es: {suma_total}\")  # Imprime el resultado"
      ],
      "metadata": {
        "colab": {
          "base_uri": "https://localhost:8080/"
        },
        "id": "lnJomp3FtDm8",
        "outputId": "b82b1bf4-14af-4112-ff99-853325b672fc"
      },
      "execution_count": null,
      "outputs": [
        {
          "output_type": "stream",
          "name": "stdout",
          "text": [
            "La suma de los elementos de la lista es: 15\n"
          ]
        }
      ]
    },
    {
      "cell_type": "markdown",
      "source": [
        "Pide al usuario un número e indica si es positivo, negativo o cero.\n",
        "\n"
      ],
      "metadata": {
        "id": "9NPdZRj0Fq3J"
      }
    },
    {
      "cell_type": "code",
      "source": [
        "num = float(input(\"Ingrese un numero: \"))\n",
        "\n",
        "if num < 0:\n",
        "  print (f\"{num} es negativo\")\n",
        "\n",
        "elif num > 0:\n",
        "  print (f\"{num} es positivo\")\n",
        "\n",
        "else:\n",
        "  print (f\"{num} es cero\")\n",
        "\n"
      ],
      "metadata": {
        "colab": {
          "base_uri": "https://localhost:8080/"
        },
        "id": "Ic5DjSpCFrbt",
        "outputId": "f18b4924-3e7b-4fb2-d66e-e61440a4ae94"
      },
      "execution_count": null,
      "outputs": [
        {
          "output_type": "stream",
          "name": "stdout",
          "text": [
            "Ingrese un numero: -6\n",
            "-6.0 es negativo\n"
          ]
        }
      ]
    },
    {
      "cell_type": "markdown",
      "source": [
        "Pide al usuario una cantidad de segundos y convierte el tiempo en horas, minutos y segundos.\n",
        "\n"
      ],
      "metadata": {
        "id": "AqNK4ISKHKuj"
      }
    },
    {
      "cell_type": "code",
      "source": [
        "num = int(input(\"Ingrese la cantidad de segundo:\"))\n",
        "\n",
        "horas = num //3600\n",
        "segundos_restantes = num % 3600\n",
        "minutos = segundos_restantes // 60\n",
        "segundos = segundos_restantes % 6\n",
        "\n",
        "print(f\"{num} segundos equivalen a {horas} horas, {minutos} minutos y {segundos} segundos.\")\n"
      ],
      "metadata": {
        "colab": {
          "base_uri": "https://localhost:8080/"
        },
        "id": "4XSn0iAWHNOO",
        "outputId": "fe3942a8-3de2-4ae0-ef7a-d35933e5d56d"
      },
      "execution_count": null,
      "outputs": [
        {
          "output_type": "stream",
          "name": "stdout",
          "text": [
            "Ingrese la cantidad de segundo:20000\n",
            "20000 segundos equivalen a 5 horas, 33 minutos y 2 segundos.\n"
          ]
        }
      ]
    },
    {
      "cell_type": "markdown",
      "source": [],
      "metadata": {
        "id": "UzklP091QKcu"
      }
    },
    {
      "cell_type": "markdown",
      "source": [
        "Pide al usuario un año y determina si es bisiesto o no."
      ],
      "metadata": {
        "id": "Gt8p63bsQKep"
      }
    },
    {
      "cell_type": "code",
      "source": [
        "num = int(input(\"Ingrese el año: \"))\n",
        "\n",
        "if (num % 4 == 0 and num % 100 != 0) or (num % 400 == 0):\n",
        "  print (f\"{num} es un año bisiesto\")\n",
        "\n",
        "else:\n",
        "  print (f\"{num} no es un año bisiesto\")"
      ],
      "metadata": {
        "id": "9XqP4CUaQLVH"
      },
      "execution_count": null,
      "outputs": []
    },
    {
      "cell_type": "markdown",
      "source": [
        "Pide las coordenadas (x1, y1) y (x2, y2) y calcula la distancia entre ellos usando la fórmula:\n",
        "\n",
        "distancia\n",
        "=\n",
        "(\n",
        "𝑥\n",
        "2\n",
        "−\n",
        "𝑥\n",
        "1\n",
        ")\n",
        "2\n",
        "+\n",
        "(\n",
        "𝑦\n",
        "2\n",
        "−\n",
        "𝑦\n",
        "1\n",
        ")\n",
        "2\n",
        "distancia=\n",
        "(x2−x1)\n",
        "2\n",
        " +(y2−y1)\n",
        "2\n",
        "\n",
        "​\n"
      ],
      "metadata": {
        "id": "zLrIG9fWU3eo"
      }
    },
    {
      "cell_type": "code",
      "source": [
        "import math\n",
        "\n",
        "# Pedir las coordenadas al usuario\n",
        "x1 = float(input(\"Ingrese la coordenada x1: \"))\n",
        "y1 = float(input(\"Ingrese la coordenada y1: \"))\n",
        "x2 = float(input(\"Ingrese la coordenada x2: \"))\n",
        "y2 = float(input(\"Ingrese la coordenada y2: \"))\n",
        "\n",
        "# Calcular la distancia usando la fórmula\n",
        "distancia = math.sqrt((x2 - x1)**2 + (y2 - y1)**2)\n",
        "\n",
        "# Mostrar la distancia\n",
        "print(f\"La distancia entre los puntos es: {distancia}\")\n"
      ],
      "metadata": {
        "colab": {
          "base_uri": "https://localhost:8080/"
        },
        "id": "AQfOdlQ3VAYu",
        "outputId": "57fc4669-f4c4-4f1f-adbf-e1f6c7f39444"
      },
      "execution_count": null,
      "outputs": [
        {
          "output_type": "stream",
          "name": "stdout",
          "text": [
            "Ingrese la coordenada x1: 12\n",
            "Ingrese la coordenada y1: 23\n",
            "Ingrese la coordenada x2: 45\n",
            "Ingrese la coordenada y2: 12\n",
            "La distancia entre los puntos es: 34.785054261852174\n"
          ]
        }
      ]
    },
    {
      "cell_type": "markdown",
      "source": [
        "Pide al usuario una frase y una letra, cuenta cuántas veces aparece esa letra."
      ],
      "metadata": {
        "id": "Xl1WqtJ8YJw7"
      }
    },
    {
      "cell_type": "code",
      "source": [
        "frase = input(\"Ingrese una frase: \")\n",
        "letra = input(\"Ingrese una letra: \")\n",
        "\n",
        "print (f\"La letra {letra} aparece  {frase.count(letra)} veces en '{frase}'\")"
      ],
      "metadata": {
        "colab": {
          "base_uri": "https://localhost:8080/"
        },
        "id": "DB8nzuwLYKrH",
        "outputId": "25f74d60-85a1-4e92-a7de-f3ce58dbb763"
      },
      "execution_count": null,
      "outputs": [
        {
          "output_type": "stream",
          "name": "stdout",
          "text": [
            "Ingrese una frase: estrella\n",
            "Ingrese una letra: e\n",
            "La letra e aparece  2 veces en 'estrella'\n"
          ]
        }
      ]
    },
    {
      "cell_type": "markdown",
      "source": [],
      "metadata": {
        "id": "Fd8UQSTMaxkF"
      }
    }
  ]
}