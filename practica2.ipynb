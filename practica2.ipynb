{
  "nbformat": 4,
  "nbformat_minor": 0,
  "metadata": {
    "colab": {
      "provenance": [],
      "authorship_tag": "ABX9TyNK8VsfgDKa4UMrgAgBQm7z",
      "include_colab_link": true
    },
    "kernelspec": {
      "name": "python3",
      "display_name": "Python 3"
    },
    "language_info": {
      "name": "python"
    }
  },
  "cells": [
    {
      "cell_type": "markdown",
      "metadata": {
        "id": "view-in-github",
        "colab_type": "text"
      },
      "source": [
        "<a href=\"https://colab.research.google.com/github/Hertoli/HandConnect/blob/main/practica2.ipynb\" target=\"_parent\"><img src=\"https://colab.research.google.com/assets/colab-badge.svg\" alt=\"Open In Colab\"/></a>"
      ]
    },
    {
      "cell_type": "markdown",
      "source": [
        "Imprime tu nombre en pantalla."
      ],
      "metadata": {
        "id": "gvKDCfQ7eqOJ"
      }
    },
    {
      "cell_type": "code",
      "source": [
        "print (f\"Estrella\")"
      ],
      "metadata": {
        "colab": {
          "base_uri": "https://localhost:8080/"
        },
        "id": "xQV5j1dveqtc",
        "outputId": "fb3544c3-bf9a-4c01-bee2-6ba98364d824"
      },
      "execution_count": null,
      "outputs": [
        {
          "output_type": "stream",
          "name": "stdout",
          "text": [
            "Estrella\n"
          ]
        }
      ]
    },
    {
      "cell_type": "markdown",
      "source": [
        "Imprime un saludo personalizado, como \"Hola, María\"."
      ],
      "metadata": {
        "id": "16Bn1B6Se6t6"
      }
    },
    {
      "cell_type": "code",
      "source": [
        "print (f'\"Hola,María\".')"
      ],
      "metadata": {
        "colab": {
          "base_uri": "https://localhost:8080/"
        },
        "id": "wyY9ouuse8Zs",
        "outputId": "1e1950af-7dc9-42af-b3e8-0293adc8b9a6"
      },
      "execution_count": null,
      "outputs": [
        {
          "output_type": "stream",
          "name": "stdout",
          "text": [
            "\"Hola,María\".\n"
          ]
        }
      ]
    },
    {
      "cell_type": "markdown",
      "source": [
        "Imprime tu nombre y apellido en líneas separadas."
      ],
      "metadata": {
        "id": "oKamlOlnfLoV"
      }
    },
    {
      "cell_type": "code",
      "source": [
        "print (f\"Estrella\\nHernandez\")"
      ],
      "metadata": {
        "colab": {
          "base_uri": "https://localhost:8080/"
        },
        "id": "inQjSpMzfRuK",
        "outputId": "8de40272-efa5-46a2-a22c-417d04137e3a"
      },
      "execution_count": null,
      "outputs": [
        {
          "output_type": "stream",
          "name": "stdout",
          "text": [
            "Estrella\n",
            "Hernandez\n"
          ]
        }
      ]
    },
    {
      "cell_type": "markdown",
      "source": [],
      "metadata": {
        "id": "bM0FM91jfpL-"
      }
    },
    {
      "cell_type": "markdown",
      "source": [
        " Imprime tu nombre con un borde decorativo de *.\n"
      ],
      "metadata": {
        "id": "WvC3Ns-8fpNi"
      }
    },
    {
      "cell_type": "code",
      "source": [
        "print (f\"*Estrella*.\")"
      ],
      "metadata": {
        "colab": {
          "base_uri": "https://localhost:8080/"
        },
        "id": "OkxfMM44fsWk",
        "outputId": "449100fa-c6b3-4d3f-fca0-28830ec5ef00"
      },
      "execution_count": null,
      "outputs": [
        {
          "output_type": "stream",
          "name": "stdout",
          "text": [
            "*Estrella*.\n"
          ]
        }
      ]
    },
    {
      "cell_type": "markdown",
      "source": [
        "Imprime el mensaje \"Bienvenido al curso de Python\"."
      ],
      "metadata": {
        "id": "lHIAJwNKf0CJ"
      }
    },
    {
      "cell_type": "code",
      "source": [
        "print (f'\"Bienvenido al curso de Python\".')"
      ],
      "metadata": {
        "colab": {
          "base_uri": "https://localhost:8080/"
        },
        "id": "oAT-rKCwf2kh",
        "outputId": "4eff0d92-6c32-4402-8d59-a1f97051deae"
      },
      "execution_count": null,
      "outputs": [
        {
          "output_type": "stream",
          "name": "stdout",
          "text": [
            "\"Bienvenido al curso de Python\".\n"
          ]
        }
      ]
    },
    {
      "cell_type": "markdown",
      "source": [
        "Imprime la fecha y hora actual junto con un mensaje."
      ],
      "metadata": {
        "id": "wttMX2zHf_aw"
      }
    },
    {
      "cell_type": "code",
      "source": [
        "print (f\"La fecha actual es 12/02/2025 y la hora 23:12 pm\")"
      ],
      "metadata": {
        "colab": {
          "base_uri": "https://localhost:8080/"
        },
        "id": "r-zZKqYvgBmS",
        "outputId": "155626ca-6d5c-4428-f055-076c40d08109"
      },
      "execution_count": null,
      "outputs": [
        {
          "output_type": "stream",
          "name": "stdout",
          "text": [
            "La fecha actual es 12/02/2025 y la hora 23:12 pm\n"
          ]
        }
      ]
    },
    {
      "cell_type": "markdown",
      "source": [
        "Imprime \"Hola, mundo\" en mayúsculas."
      ],
      "metadata": {
        "id": "mr50roW0g-ne"
      }
    },
    {
      "cell_type": "code",
      "source": [
        "texto = \"Hola, mundo\"\n",
        "texto_mayusculas = texto.upper()\n",
        "print(texto_mayusculas)  # Salida: HOLA, MUNDO"
      ],
      "metadata": {
        "colab": {
          "base_uri": "https://localhost:8080/"
        },
        "id": "LtVjmK1lhBKN",
        "outputId": "5bc7e9b6-73c5-4385-8351-1e2c0594c8f6"
      },
      "execution_count": null,
      "outputs": [
        {
          "output_type": "stream",
          "name": "stdout",
          "text": [
            "HOLA, MUNDO\n"
          ]
        }
      ]
    },
    {
      "cell_type": "markdown",
      "source": [
        " Imprime \"Este es mi primer programa en Python\"."
      ],
      "metadata": {
        "id": "gLJ-_vJ2h9af"
      }
    },
    {
      "cell_type": "code",
      "source": [
        "print (\"Este es mi primero pograma en Python\")"
      ],
      "metadata": {
        "colab": {
          "base_uri": "https://localhost:8080/"
        },
        "id": "e1coEKI9iBkT",
        "outputId": "c78db26e-a42b-47b5-af0f-b071fe73384e"
      },
      "execution_count": null,
      "outputs": [
        {
          "output_type": "stream",
          "name": "stdout",
          "text": [
            "Este es mi primero pograma en Python\n"
          ]
        }
      ]
    },
    {
      "cell_type": "markdown",
      "source": [
        "Imprime una cita famosa y su autor."
      ],
      "metadata": {
        "id": "taAwd7yuiKCV"
      }
    },
    {
      "cell_type": "code",
      "source": [
        "cita = '\"La imaginación es más importante que el conocimiento.\" '\n",
        "autor = \"- Albert Einstein\"\n",
        "\n",
        "print(cita + autor)"
      ],
      "metadata": {
        "colab": {
          "base_uri": "https://localhost:8080/"
        },
        "id": "0tZWZqSbiMD_",
        "outputId": "c6171a31-e9c5-40af-b2cf-a020535f8d27"
      },
      "execution_count": null,
      "outputs": [
        {
          "output_type": "stream",
          "name": "stdout",
          "text": [
            "\"La imaginación es más importante que el conocimiento.\" - Albert Einstein\n"
          ]
        }
      ]
    },
    {
      "cell_type": "markdown",
      "source": [
        " Imprime un mensaje que combine texto y un número (por ejemplo, \"Tengo 25 años\")."
      ],
      "metadata": {
        "id": "9tY2LTjgiZg1"
      }
    },
    {
      "cell_type": "code",
      "source": [
        "print (f\"Tengo 25 años\")"
      ],
      "metadata": {
        "colab": {
          "base_uri": "https://localhost:8080/"
        },
        "id": "uTrB3P_cibyX",
        "outputId": "428e2b4c-8098-4821-e0cc-18533ffdd2e3"
      },
      "execution_count": null,
      "outputs": [
        {
          "output_type": "stream",
          "name": "stdout",
          "text": [
            "Tengo 25 años\n"
          ]
        }
      ]
    },
    {
      "cell_type": "code",
      "source": [
        "edad = 25\n",
        "print(\"Tengo \" + str(edad) + \" años\")"
      ],
      "metadata": {
        "colab": {
          "base_uri": "https://localhost:8080/"
        },
        "id": "-RYkQwKxi4Bu",
        "outputId": "8586e9f8-150a-419b-b51b-efe05dd295c0"
      },
      "execution_count": null,
      "outputs": [
        {
          "output_type": "stream",
          "name": "stdout",
          "text": [
            "Tengo 25 años\n"
          ]
        }
      ]
    },
    {
      "cell_type": "markdown",
      "source": [
        "Solicita dos números y muestra la suma.\n"
      ],
      "metadata": {
        "id": "MIjrNL55jU-9"
      }
    },
    {
      "cell_type": "code",
      "source": [
        "num1 = float(input(\"Ingrese el primer numero: \"))\n",
        "num2 = float(input(\"Ingrese el segundo numero: \"))\n",
        "\n",
        "suma = (num1 + num2)\n",
        "\n",
        "print(f\"La suma es {suma}\")"
      ],
      "metadata": {
        "colab": {
          "base_uri": "https://localhost:8080/"
        },
        "id": "gfcMr382jVq5",
        "outputId": "b6201bf4-b2c1-436c-f0ee-58677556c95a"
      },
      "execution_count": null,
      "outputs": [
        {
          "output_type": "stream",
          "name": "stdout",
          "text": [
            "Ingrese el primer numero: 23\n",
            "Ingrese el segundo numero: 1\n",
            "La suma es 24.0\n"
          ]
        }
      ]
    },
    {
      "cell_type": "markdown",
      "source": [
        " Solicita dos números y muestra la resta (primero menos segundo)."
      ],
      "metadata": {
        "id": "XGzaEvbTj3lc"
      }
    },
    {
      "cell_type": "code",
      "source": [
        "num1 = float(input(\"Ingrese el primer numero: \"))\n",
        "num2 = float(input(\"Ingrese el segundo numero: \"))\n",
        "\n",
        "resta = (num1 - num2)\n",
        "\n",
        "print (f\"La resta es: {resta}\")"
      ],
      "metadata": {
        "colab": {
          "base_uri": "https://localhost:8080/"
        },
        "id": "Vqh4KBRaj5lE",
        "outputId": "931fb53f-e5f8-4989-b6a8-67bc47d9f0e1"
      },
      "execution_count": null,
      "outputs": [
        {
          "output_type": "stream",
          "name": "stdout",
          "text": [
            "Ingrese el primer numero: 24\n",
            "Ingrese el segundo numero: 12\n",
            "La resta es: 12.0\n"
          ]
        }
      ]
    },
    {
      "cell_type": "markdown",
      "source": [
        "Solicita dos números y muestra la multiplicación."
      ],
      "metadata": {
        "id": "7hANJKjqkJNd"
      }
    },
    {
      "cell_type": "code",
      "source": [
        "num1 = float(input(\"Ingrese el primer numero: \"))\n",
        "num2 = float(input(\"Ingrese el segundo numero: \"))\n",
        "\n",
        "multiplicacion = (num1 * num2)\n",
        "\n",
        "print (f\"La multiplicacion es: {multiplicacion}\")"
      ],
      "metadata": {
        "colab": {
          "base_uri": "https://localhost:8080/"
        },
        "id": "ALC0LBREkMJr",
        "outputId": "e06283de-23e7-4946-a886-cb3d7db52c53"
      },
      "execution_count": null,
      "outputs": [
        {
          "output_type": "stream",
          "name": "stdout",
          "text": [
            "Ingrese el primer numero: 12\n",
            "Ingrese el segundo numero: 3\n",
            "La multiplicacion es: 36.0\n"
          ]
        }
      ]
    },
    {
      "cell_type": "markdown",
      "source": [
        " Solicita dos números y muestra la división (considera que el divisor no sea cero)."
      ],
      "metadata": {
        "id": "BjNtxpEWknD_"
      }
    },
    {
      "cell_type": "code",
      "source": [
        "num1 = int(input(\"Ingrese el primer numero: \"))\n",
        "num2 = int(input(\"Ingrese el segundo numero: \"))\n",
        "\n",
        "divisionentero = num1 // num2\n",
        "divisionfloat = num1 / num2\n",
        "divisionresto = num1 % num2\n",
        "\n",
        "print (f\"{divisionentero}, {divisionfloat}, {divisionresto}\")"
      ],
      "metadata": {
        "colab": {
          "base_uri": "https://localhost:8080/"
        },
        "id": "ySB2dPokkp0K",
        "outputId": "43b3fb05-4e62-4dee-ddf7-f0422c1b4743"
      },
      "execution_count": null,
      "outputs": [
        {
          "output_type": "stream",
          "name": "stdout",
          "text": [
            "Ingrese el primer numero: 12\n",
            "Ingrese el segundo numero: 5\n",
            "2, 2.4, 2\n"
          ]
        }
      ]
    },
    {
      "cell_type": "markdown",
      "source": [
        " Solicita dos números y muestra el resultado de elevar el primero al segundo (x^y)."
      ],
      "metadata": {
        "id": "tOwyjPV4m1XP"
      }
    },
    {
      "cell_type": "code",
      "source": [
        "num1 = int(input(\"Ingrese el primer numero: \"))\n",
        "num2 = int(input(\"Ingrese el segundo numero: \"))\n",
        "\n",
        "elevar = num1 ** num2\n",
        "print(f\"El resultado de elevar {num1} al {num2} es: {elevar}\")"
      ],
      "metadata": {
        "colab": {
          "base_uri": "https://localhost:8080/"
        },
        "id": "FbNUgTu6m3S-",
        "outputId": "9f5b757e-8119-4446-c933-9ccf1e93cc8c"
      },
      "execution_count": null,
      "outputs": [
        {
          "output_type": "stream",
          "name": "stdout",
          "text": [
            "Ingrese el primer numero: 2\n",
            "Ingrese el segundo numero: 4\n",
            "El resultado de elevar 2 al 4 es: 16\n"
          ]
        }
      ]
    },
    {
      "cell_type": "markdown",
      "source": [
        "Solicita dos números y muestra el residuo de la división (%)"
      ],
      "metadata": {
        "id": "h0Zp2Z1tnTK0"
      }
    },
    {
      "cell_type": "code",
      "source": [
        "num1 = int(input(\"Ingrese el primer numero: \"))\n",
        "num2 = int(input(\"Ingrese el segundo numero: \"))\n",
        "\n",
        "residuo = num1 % num2\n",
        "print (f\"El residuo de la division es: {residuo}\")"
      ],
      "metadata": {
        "colab": {
          "base_uri": "https://localhost:8080/"
        },
        "id": "PvxbEaoInXS2",
        "outputId": "f9cf6ef6-c78d-471a-e886-47c0a01d51e9"
      },
      "execution_count": null,
      "outputs": [
        {
          "output_type": "stream",
          "name": "stdout",
          "text": [
            "Ingrese el primer numero: 12\n",
            "Ingrese el segundo numero: 5\n",
            "El residuo de la division es: 2\n"
          ]
        }
      ]
    },
    {
      "cell_type": "markdown",
      "source": [
        " Solicita dos números y muestra el resultado de la división entera (//)."
      ],
      "metadata": {
        "id": "NIHC_3GMoFDW"
      }
    },
    {
      "cell_type": "code",
      "source": [
        "num1 = int(input(\"Ingrese el primer numero: \"))\n",
        "num2 = int(input(\"Ingrese el segundo numero: \"))\n",
        "\n",
        "division = num1 // num2\n",
        "print(f\"El resultado de la division es: {division}\")"
      ],
      "metadata": {
        "colab": {
          "base_uri": "https://localhost:8080/"
        },
        "id": "zx2aVzIToHV4",
        "outputId": "1cc1a894-cecd-4bbe-ba2e-df20db6681ac"
      },
      "execution_count": null,
      "outputs": [
        {
          "output_type": "stream",
          "name": "stdout",
          "text": [
            "Ingrese el primer numero: 12\n",
            "Ingrese el segundo numero: 7\n",
            "El resultado de la division es: 1\n"
          ]
        }
      ]
    },
    {
      "cell_type": "markdown",
      "source": [
        "Solicita dos números y muestra la suma, resta, multiplicación y división en una sola línea."
      ],
      "metadata": {
        "id": "0S3ZoZT-oZFz"
      }
    },
    {
      "cell_type": "code",
      "source": [
        "num1 = int(input(\"Ingrese el primer numero: \"))\n",
        "num2 = int(input(\"Ingrese el segundo numero: \"))\n",
        "\n",
        "suma = num1 + num2\n",
        "resta = num1 - num2\n",
        "multiplicacion = num1 * num2\n",
        "division = num1 / num2\n",
        "\n",
        "print (f\"La suma de los dos numeros es: {suma} , y la resta {resta} , la multiplicacion {multiplicacion }, division es: {division}\")"
      ],
      "metadata": {
        "colab": {
          "base_uri": "https://localhost:8080/"
        },
        "id": "VE8wNjqIobNY",
        "outputId": "66b79718-9adc-45c4-e688-6fad99183299"
      },
      "execution_count": null,
      "outputs": [
        {
          "output_type": "stream",
          "name": "stdout",
          "text": [
            "Ingrese el primer numero: 12\n",
            "Ingrese el segundo numero: 67\n",
            "La suma de los dos numeros es: 79 , y la resta -55 , la multiplicacion 804, division es: 0.1791044776119403\n"
          ]
        }
      ]
    },
    {
      "cell_type": "markdown",
      "source": [
        " Solicita dos números y muestra el doble de su suma."
      ],
      "metadata": {
        "id": "VVAB3kKQpByp"
      }
    },
    {
      "cell_type": "code",
      "source": [
        "num1 = int(input(\"Ingrese el primer numero: \"))\n",
        "num2 = int(input(\"Ingrese el segundo numero: \"))\n",
        "\n",
        "doble = (num1 + num2)*2\n",
        "print (f\"El doble de la suma es: {doble}\")"
      ],
      "metadata": {
        "colab": {
          "base_uri": "https://localhost:8080/"
        },
        "id": "C2JfN6umpD7D",
        "outputId": "2ebc69ef-bed6-4d40-b4b3-7886828331dd"
      },
      "execution_count": null,
      "outputs": [
        {
          "output_type": "stream",
          "name": "stdout",
          "text": [
            "Ingrese el primer numero: 3\n",
            "Ingrese el segundo numero: 6\n",
            "El doble de la suma es: 18\n"
          ]
        }
      ]
    },
    {
      "cell_type": "markdown",
      "source": [
        "Solicita dos números y muestra el promedio de ambos."
      ],
      "metadata": {
        "id": "oAkWLVdNpXFi"
      }
    },
    {
      "cell_type": "code",
      "source": [
        "num1 = int(input(\"Ingrese el primer numero: \"))\n",
        "num2 = int(input(\"Ingrese el segundo numero: \"))\n",
        "\n",
        "promedio = (num1 + num2)/2\n",
        "\n",
        "print (f\"El promedio de los dos numero es: {promedio}\")"
      ],
      "metadata": {
        "colab": {
          "base_uri": "https://localhost:8080/"
        },
        "id": "x4p9lM6zpZus",
        "outputId": "32f38b88-9a36-4431-bad2-40bb3417c95a"
      },
      "execution_count": null,
      "outputs": [
        {
          "output_type": "stream",
          "name": "stdout",
          "text": [
            "Ingrese el primer numero: 127\n",
            "Ingrese el segundo numero: 56\n",
            "El promedio de los dos numero es: 91.5\n"
          ]
        }
      ]
    },
    {
      "cell_type": "markdown",
      "source": [
        " Convierte 25°C a Fahrenheit y muestra el resultado."
      ],
      "metadata": {
        "id": "uUtoSlPBNM5T"
      }
    },
    {
      "cell_type": "code",
      "source": [
        "centigrados = 40\n",
        "fahrenheit = (9/5 * centigrados) + 32\n",
        "\n",
        "print (f\"El resultado de convertir {centigrados} °C a fahrenheit es : {fahrenheit} \")"
      ],
      "metadata": {
        "colab": {
          "base_uri": "https://localhost:8080/"
        },
        "id": "HYPT6dbMNNsI",
        "outputId": "b831002c-6f1c-4b0e-e161-0bfb87686ae8"
      },
      "execution_count": null,
      "outputs": [
        {
          "output_type": "stream",
          "name": "stdout",
          "text": [
            "El resultado de convertir 40 °C a fahrenheit es : 104.0 \n"
          ]
        }
      ]
    },
    {
      "cell_type": "markdown",
      "source": [
        " Convierte 0°C a Fahrenheit y muestra el resultado."
      ],
      "metadata": {
        "id": "hAbvRD4wREEv"
      }
    },
    {
      "cell_type": "code",
      "source": [
        "centigrados = 0\n",
        "fahrenheit = (9/5 * centigrados) + 32\n",
        "\n",
        "print (f\"El resultado de convertir {centigrados} °C a fahrenheit es : {fahrenheit} \")"
      ],
      "metadata": {
        "colab": {
          "base_uri": "https://localhost:8080/"
        },
        "id": "cpCFx_1eRGzI",
        "outputId": "967bcc6e-e7ab-4aed-ccd8-17d8c5cbf09f"
      },
      "execution_count": null,
      "outputs": [
        {
          "output_type": "stream",
          "name": "stdout",
          "text": [
            "El resultado de convertir 0 °C a fahrenheit es : 32.0 \n"
          ]
        }
      ]
    },
    {
      "cell_type": "markdown",
      "source": [
        "Convierte -10°C a Fahrenheit y muestra el resultado"
      ],
      "metadata": {
        "id": "VcGvCVIdRLsa"
      }
    },
    {
      "cell_type": "code",
      "source": [
        "centigrados = -10\n",
        "fahrenheit = (9/5 * centigrados) + 32\n",
        "\n",
        "print (f\"El resultado de convertir {centigrados} °C a fahrenheit es : {fahrenheit} \")"
      ],
      "metadata": {
        "colab": {
          "base_uri": "https://localhost:8080/"
        },
        "id": "aIExVy0QRNIT",
        "outputId": "66d3ca9d-e07f-4e11-fdee-443d30a0822e"
      },
      "execution_count": null,
      "outputs": [
        {
          "output_type": "stream",
          "name": "stdout",
          "text": [
            "El resultado de convertir -10 °C a fahrenheit es : 14.0 \n"
          ]
        }
      ]
    },
    {
      "cell_type": "markdown",
      "source": [
        "Pide al usuario un valor en Celsius y conviértelo a Fahrenheit."
      ],
      "metadata": {
        "id": "BRq2lhzRRb5x"
      }
    },
    {
      "cell_type": "code",
      "source": [
        "celsius = float(input(\"Ingrese temperatura en Celsius: \"))\n",
        "fahrenheit = (9/5 * celsius) + 32\n",
        "\n",
        "print (f\"El resultado de convertir {celsius} °C a fahrenheit es : {fahrenheit} \")"
      ],
      "metadata": {
        "colab": {
          "base_uri": "https://localhost:8080/"
        },
        "id": "IwCIZdSKRd1a",
        "outputId": "0a347f67-02ba-4900-acf2-487657ffbda6"
      },
      "execution_count": null,
      "outputs": [
        {
          "output_type": "stream",
          "name": "stdout",
          "text": [
            "Ingrese temperatura en Celsius: 10\n",
            "El resultado de convertir 10.0 °C a fahrenheit es : 50.0 \n"
          ]
        }
      ]
    },
    {
      "cell_type": "markdown",
      "source": [
        " Pide al usuario una temperatura en Fahrenheit y conviértela a Celsius."
      ],
      "metadata": {
        "id": "ah0pOk1VSBmi"
      }
    },
    {
      "cell_type": "code",
      "source": [
        "fahrenheit = float(input(\"Ingrese temperatura en Celsius: \"))\n",
        "convertidor_celsius = (9/5 * fahrenheit) + 32\n",
        "\n",
        "print (f\"El resultado de convertir {fahrenheit} °F a Celsius es : {convertidor_celsius} \")"
      ],
      "metadata": {
        "colab": {
          "base_uri": "https://localhost:8080/"
        },
        "id": "sQrpKBsNSDiQ",
        "outputId": "ab8d7172-d0ab-422a-b1d0-a68e35819d3e"
      },
      "execution_count": null,
      "outputs": [
        {
          "output_type": "stream",
          "name": "stdout",
          "text": [
            "Ingrese temperatura en Celsius: 12\n",
            "El resultado de convertir 12.0 °F a Celsius es : 53.6 \n"
          ]
        }
      ]
    },
    {
      "cell_type": "markdown",
      "source": [
        "Convierte 100°C (punto de ebullición del agua) a Fahrenheit.\n"
      ],
      "metadata": {
        "id": "x1qafaZBTgpD"
      }
    },
    {
      "cell_type": "code",
      "source": [
        "celsius = 100\n",
        "fahrenheit = (9/5 * celsius) + 32\n",
        "\n",
        "print (f\"El resultado de convertir {celsius} °C a fahrenheit es : {fahrenheit} \")"
      ],
      "metadata": {
        "colab": {
          "base_uri": "https://localhost:8080/"
        },
        "id": "j3-VuJAWThPr",
        "outputId": "cd9eb105-a0d8-4309-d428-2a7dde284313"
      },
      "execution_count": null,
      "outputs": [
        {
          "output_type": "stream",
          "name": "stdout",
          "text": [
            "El resultado de convertir 100 °C a fahrenheit es : 212.0 \n"
          ]
        }
      ]
    },
    {
      "cell_type": "markdown",
      "source": [
        "Convierte -273.15°C (cero absoluto) a Fahrenheit."
      ],
      "metadata": {
        "id": "tf4VkgJnT4_p"
      }
    },
    {
      "cell_type": "code",
      "source": [
        "celsius = -273.15\n",
        "fahrenheit = (9/5 * celsius) + 32\n",
        "\n",
        "print (f\"El resultado de convertir {celsius} °C a fahrenheit es : {fahrenheit} \")"
      ],
      "metadata": {
        "colab": {
          "base_uri": "https://localhost:8080/"
        },
        "id": "UdoBKjmlT5m7",
        "outputId": "368aa913-03b9-42b7-89b7-d3de9ea49be4"
      },
      "execution_count": null,
      "outputs": [
        {
          "output_type": "stream",
          "name": "stdout",
          "text": [
            "El resultado de convertir -273.15 °C a fahrenheit es : -459.66999999999996 \n"
          ]
        }
      ]
    },
    {
      "cell_type": "markdown",
      "source": [
        "Solicita varias temperaturas en Celsius y muestra sus equivalentes en Fahrenheit"
      ],
      "metadata": {
        "id": "Vd4cLHaQUfTi"
      }
    },
    {
      "cell_type": "code",
      "source": [
        "# Solicitar al usuario la cantidad de temperaturas a convertir\n",
        "num_temps = int(input(\"¿Cuántas temperaturas en Celsius desea convertir? \"))\n",
        "\n",
        "# Crear una lista para almacenar las temperaturas en Celsius\n",
        "temps_celsius = []\n",
        "\n",
        "# Usar un bucle for para solicitar cada temperatura y añadirla a la lista\n",
        "for i in range(num_temps):\n",
        "    temp = float(input(f\"Ingrese la temperatura {i + 1} en Celsius: \"))\n",
        "    temps_celsius.append(temp)\n",
        "\n",
        "# Imprimir un encabezado para la tabla de conversión\n",
        "print(\"\\nCelsius | Fahrenheit\")\n",
        "print(\"-------|-----------\")\n",
        "\n",
        "# Usar un bucle for para convertir cada temperatura y mostrar el resultado\n",
        "for temp_celsius in temps_celsius:\n",
        "    fahrenheit = (9/5 * temp_celsius) + 32\n",
        "    print(f\"{temp_celsius:7.2f} | {fahrenheit:10.2f}\")"
      ],
      "metadata": {
        "colab": {
          "base_uri": "https://localhost:8080/"
        },
        "id": "u-gCd_QLUf5U",
        "outputId": "b229e39f-277c-4255-d452-af4f08e96321"
      },
      "execution_count": null,
      "outputs": [
        {
          "output_type": "stream",
          "name": "stdout",
          "text": [
            "¿Cuántas temperaturas en Celsius desea convertir? 4\n",
            "Ingrese la temperatura 1 en Celsius: 12\n",
            "Ingrese la temperatura 2 en Celsius: 45\n",
            "Ingrese la temperatura 3 en Celsius: 67\n",
            "Ingrese la temperatura 4 en Celsius: 89\n",
            "\n",
            "Celsius | Fahrenheit\n",
            "-------|-----------\n",
            "  12.00 |      53.60\n",
            "  45.00 |     113.00\n",
            "  67.00 |     152.60\n",
            "  89.00 |     192.20\n"
          ]
        }
      ]
    },
    {
      "cell_type": "markdown",
      "source": [],
      "metadata": {
        "id": "awYXvGK5jOle"
      }
    },
    {
      "cell_type": "markdown",
      "source": [
        "Convierte 37°C (temperatura del cuerpo humano) a Fahrenheit."
      ],
      "metadata": {
        "id": "pomtmRR8jOnE"
      }
    },
    {
      "cell_type": "code",
      "source": [
        "celsius = 37\n",
        "fahrenheit = (9/5 * celsius) + 32\n",
        "\n",
        "print (f\"El resultado de convertir {celsius} °C a fahrenheit es : {fahrenheit} \")"
      ],
      "metadata": {
        "colab": {
          "base_uri": "https://localhost:8080/"
        },
        "id": "-qUgl68ujTqC",
        "outputId": "3ae12277-61e0-473a-aa7f-c38ec5365e98"
      },
      "execution_count": null,
      "outputs": [
        {
          "output_type": "stream",
          "name": "stdout",
          "text": [
            "El resultado de convertir 37 °C a fahrenheit es : 98.60000000000001 \n"
          ]
        }
      ]
    },
    {
      "cell_type": "markdown",
      "source": [
        " Pide al usuario la temperatura actual en Celsius y muestra un mensaje si hace frío, calor o está templado.\n",
        "Muy frío: temperatura media anual inferior a 0 °C.\n",
        "Frío: temperatura media anual entre 0 °C y 10 °C.\n",
        "Templado: temperatura media anual entre 10 °C y 20 °C.\n",
        "Cálido: temperatura media anual entre 20 °C y 25 °C.\n",
        "\n"
      ],
      "metadata": {
        "id": "2rORSfQjkBeG"
      }
    },
    {
      "cell_type": "code",
      "source": [
        "celsius = float(input(\"Ingrese temperatura en Celsius: \"))\n",
        "\n",
        "if  celsius < 10 :\n",
        "  print (\"Hace frio.\")\n",
        "\n",
        "elif celsius >=10 and celsius < 25:\n",
        "  print (\"Esta templado\")\n",
        "\n",
        "else :\n",
        "  print (\"Hace calor\")\n"
      ],
      "metadata": {
        "id": "l9siM-iLkB4p",
        "colab": {
          "base_uri": "https://localhost:8080/"
        },
        "outputId": "95e8d160-672d-41fe-a665-87aa59f349ec"
      },
      "execution_count": null,
      "outputs": [
        {
          "output_type": "stream",
          "name": "stdout",
          "text": [
            "Ingrese temperatura en Celsius: 12\n",
            "Esta templado\n"
          ]
        }
      ]
    },
    {
      "cell_type": "markdown",
      "source": [
        " Pide un número y muestra si es par o impar."
      ],
      "metadata": {
        "id": "VPKQ7O7dwLUk"
      }
    },
    {
      "cell_type": "code",
      "source": [
        "num = int(input(\"Ingrese un numero: \"))\n",
        "if num % 2 == 0 :\n",
        "  print (\"Es par\")\n",
        "\n",
        "else :\n",
        "  print (\"Es impar\")"
      ],
      "metadata": {
        "id": "gyok46K3wL3V",
        "colab": {
          "base_uri": "https://localhost:8080/"
        },
        "outputId": "b9b410de-4aa0-42f4-fb8b-d5f88c165f2d"
      },
      "execution_count": null,
      "outputs": [
        {
          "output_type": "stream",
          "name": "stdout",
          "text": [
            "Ingrese un numero: 12\n",
            "Es par\n"
          ]
        }
      ]
    },
    {
      "cell_type": "markdown",
      "source": [
        " Pide dos números e indica cuál de los dos es par y cuál impar."
      ],
      "metadata": {
        "id": "mnNuAZ4FooSo"
      }
    },
    {
      "source": [
        "num1 = int(input(\"Ingresa el primer número: \"))\n",
        "num2 = int(input(\"Ingresa el segundo número: \"))\n",
        "\n",
        "if num1 % 2 == 0:\n",
        "    print(f\"{num1} es par\")\n",
        "else:\n",
        "    print(f\"{num1} es impar\")\n",
        "\n",
        "if num2 % 2 == 0:\n",
        "    print(f\"{num2} es par\")\n",
        "else:\n",
        "    print(f\"{num2} es impar\")"
      ],
      "cell_type": "code",
      "metadata": {
        "id": "9pe_IuRfqJjY"
      },
      "execution_count": null,
      "outputs": []
    },
    {
      "cell_type": "markdown",
      "source": [
        "Pide un número y verifica si es par o impar sin usar if, solo operadores."
      ],
      "metadata": {
        "id": "gZTJUFuAqVo-"
      }
    },
    {
      "cell_type": "code",
      "source": [
        "num = int(input(\"Ingrese un número: \"))\n",
        "\n",
        "resultado = [\"par\", \"impar\"][num % 2]\n",
        "\n",
        "print(f\"El número {num} es {resultado}.\")"
      ],
      "metadata": {
        "colab": {
          "base_uri": "https://localhost:8080/"
        },
        "id": "vp1w2GEDqWj1",
        "outputId": "4fe857bb-1516-458d-b560-47d24d185dfa"
      },
      "execution_count": null,
      "outputs": [
        {
          "output_type": "stream",
          "name": "stdout",
          "text": [
            "Ingrese un número: 23\n",
            "El número 23 es impar.\n"
          ]
        }
      ]
    },
    {
      "cell_type": "markdown",
      "source": [
        "Genera un número aleatorio entre 1 y 100 y muestra si es par o impar."
      ],
      "metadata": {
        "id": "GZCfm65ss6FB"
      }
    },
    {
      "cell_type": "code",
      "source": [
        "import random\n",
        "\n",
        "# Genera un número aleatorio entre 1 y 100\n",
        "numero_aleatorio = random.randint(1, 100)\n",
        "\n",
        "# Verifica si el número es par o impar\n",
        "if numero_aleatorio % 2 == 0:\n",
        "    resultado = \"par\"\n",
        "else:\n",
        "    resultado = \"impar\"\n",
        "\n",
        "# Imprime el resultado\n",
        "print(f\"El número {numero_aleatorio} es {resultado}.\")"
      ],
      "metadata": {
        "colab": {
          "base_uri": "https://localhost:8080/"
        },
        "id": "mKT_qlmcs8fO",
        "outputId": "d6c31b0f-b3e1-4e33-bcc2-01408fc5a7b6"
      },
      "execution_count": null,
      "outputs": [
        {
          "output_type": "stream",
          "name": "stdout",
          "text": [
            "El número 25 es impar.\n"
          ]
        }
      ]
    },
    {
      "cell_type": "code",
      "source": [
        "import random\n",
        "\n",
        "resultado = random.choice([\"Cara\", \"Cruz\"])\n",
        "print(f\"El resultado del lanzamiento es: {resultado}\")"
      ],
      "metadata": {
        "colab": {
          "base_uri": "https://localhost:8080/"
        },
        "id": "gYGaOpoE-NLf",
        "outputId": "7e7a6dc1-18fe-4eeb-859b-d4d17dd88529"
      },
      "execution_count": null,
      "outputs": [
        {
          "output_type": "stream",
          "name": "stdout",
          "text": [
            "El resultado del lanzamiento es: Cara\n"
          ]
        }
      ]
    },
    {
      "cell_type": "code",
      "source": [
        "import random\n",
        "\n",
        "lista = [1, 2, 3, 4, 5]\n",
        "random.shuffle(lista)\n",
        "print(f\"Lista barajada: {lista}\")"
      ],
      "metadata": {
        "id": "5wBmuzB1_dy0",
        "outputId": "075f3d6b-619f-4b44-dff6-11eed0bd953b",
        "colab": {
          "base_uri": "https://localhost:8080/"
        }
      },
      "execution_count": null,
      "outputs": [
        {
          "output_type": "stream",
          "name": "stdout",
          "text": [
            "Lista barajada: [5, 3, 2, 1, 4]\n"
          ]
        }
      ]
    },
    {
      "cell_type": "markdown",
      "source": [
        "Pide un número y muestra si es par o impar, pero considera que el usuario puede ingresar un número negativo.\n"
      ],
      "metadata": {
        "id": "Z7EPkPSmEh6S"
      }
    },
    {
      "cell_type": "code",
      "source": [
        "num = int(input(\"Ingrese un número: \"))\n",
        "\n",
        "if num % 2 == 0:\n",
        "  print(f\"{num} es par\", end=\" \")  # Imprime \"par\" y continúa en la misma línea\n",
        "else:\n",
        "  print(f\"{num} es impar\", end=\" \") # Imprime \"impar\" y continúa en la misma línea\n",
        "\n",
        "if num >= 0:\n",
        "  print(\"y positivo\")\n",
        "else:\n",
        "  print(\"y negativo\")"
      ],
      "metadata": {
        "colab": {
          "base_uri": "https://localhost:8080/"
        },
        "id": "qlGpN_sjFhCp",
        "outputId": "3ffab9fd-8e21-455b-c648-85717556183e"
      },
      "execution_count": null,
      "outputs": [
        {
          "output_type": "stream",
          "name": "stdout",
          "text": [
            "Ingrese un número: -10\n",
            "-10 es par y negativo\n"
          ]
        }
      ]
    },
    {
      "cell_type": "code",
      "source": [
        "num = int(input(\"Ingrese un número: \"))\n",
        "\n",
        "print(f\"{num} es {'par' if num % 2 == 0 else 'impar'} y {'positivo' if num >= 0 else 'negativo'}\")"
      ],
      "metadata": {
        "colab": {
          "base_uri": "https://localhost:8080/"
        },
        "id": "YsD5wHJfGJIz",
        "outputId": "ec345a50-d145-4fc6-95a7-56591fc86269"
      },
      "execution_count": null,
      "outputs": [
        {
          "output_type": "stream",
          "name": "stdout",
          "text": [
            "Ingrese un número: -9\n",
            "-9 es impar y negativo\n"
          ]
        }
      ]
    },
    {
      "cell_type": "code",
      "source": [
        "num = int(input(\"Ingrese un número: \"))\n",
        "\n",
        "if num % 2 == 0:\n",
        "  print(f\"{num} es par\")\n",
        "else:\n",
        "  print(f\"{num} es impar\")"
      ],
      "metadata": {
        "colab": {
          "base_uri": "https://localhost:8080/"
        },
        "id": "X5njwTWdEicZ",
        "outputId": "2ad0dd75-3095-4018-8f77-50d120fd9df6"
      },
      "execution_count": null,
      "outputs": [
        {
          "output_type": "stream",
          "name": "stdout",
          "text": [
            "Ingrese un número: -10\n",
            "-10 es par\n"
          ]
        }
      ]
    },
    {
      "cell_type": "markdown",
      "source": [
        "Pide un número y muestra si es par o impar, pero si es 0, muestra \"El cero no es par ni impar\"."
      ],
      "metadata": {
        "id": "l90PPWq_I74c"
      }
    },
    {
      "cell_type": "code",
      "source": [
        "num = int(input(\"Ingrese un numero: \"))\n",
        "\n",
        "if num == 0:\n",
        "  print(f\"El {num} no es para ni impar \")\n",
        "\n",
        "elif num % 2 == 0:\n",
        "  print(f\"{num} es par\")\n",
        "\n",
        "else :\n",
        "  print(f\"{num} es impar\")\n",
        "\n"
      ],
      "metadata": {
        "colab": {
          "base_uri": "https://localhost:8080/"
        },
        "id": "jtAtEoZaI8Wy",
        "outputId": "5ed06ab8-e3d5-4181-8920-1cf603d8a658"
      },
      "execution_count": null,
      "outputs": [
        {
          "output_type": "stream",
          "name": "stdout",
          "text": [
            "Ingrese un numero: 5\n",
            "5 es impar\n"
          ]
        }
      ]
    },
    {
      "cell_type": "markdown",
      "source": [
        "Pide un número y, si es par, divide por 2; si es impar, multiplícalo por 3."
      ],
      "metadata": {
        "id": "NodY1os4Lm_h"
      }
    },
    {
      "cell_type": "code",
      "source": [
        "num = int(input(\"Ingrese un número: \"))\n",
        "\n",
        "if num % 2 == 0:\n",
        "  resultado = num /2\n",
        "else:\n",
        "  resultado = num * 3\n",
        "\n",
        "print (f\"El resultado es: { resultado}\")\n"
      ],
      "metadata": {
        "colab": {
          "base_uri": "https://localhost:8080/"
        },
        "id": "p6bFMhQTLoBP",
        "outputId": "a35e6528-03e9-40b1-f2f6-9432b973be79"
      },
      "execution_count": null,
      "outputs": [
        {
          "output_type": "stream",
          "name": "stdout",
          "text": [
            "Ingrese un número: 7\n",
            "El resultado es: 21\n"
          ]
        }
      ]
    },
    {
      "cell_type": "markdown",
      "source": [
        " Pide una lista de números al usuario y muestra cuántos son pares y cuántos impares."
      ],
      "metadata": {
        "id": "SlObnyrxN0XM"
      }
    },
    {
      "cell_type": "code",
      "source": [
        "# Solicitar al usuario que ingrese la lista de números separados por espacios\n",
        "numeros_str = input(\"Ingrese una lista de números separados por espacios: \")\n",
        "\n",
        "# Convertir la cadena de entrada en una lista de números\n",
        "numeros = [int(numero) for numero in numeros_str.split()]\n",
        "\n",
        "# Inicializar contadores para números pares e impares\n",
        "pares = 0\n",
        "impares = 0\n",
        "\n",
        "# Iterar a través de la lista de números\n",
        "for numero in numeros:\n",
        "    if numero % 2 == 0:  # Si el número es par\n",
        "        pares += 1\n",
        "    else:  # Si el número es impar\n",
        "        impares += 1\n",
        "\n",
        "# Mostrar los resultados\n",
        "print(f\"Cantidad de números pares: {pares}\")\n",
        "print(f\"Cantidad de números impares: {impares}\")"
      ],
      "metadata": {
        "id": "aOUIa3PeN36M"
      },
      "execution_count": null,
      "outputs": []
    },
    {
      "cell_type": "markdown",
      "source": [
        "Pide un número y muestra si es par o impar, pero si el número es mayor a 100, muestra \"Número demasiado grande\"."
      ],
      "metadata": {
        "id": "52mwHs-pVXwk"
      }
    },
    {
      "cell_type": "code",
      "source": [
        "num = int (input(\"Ingresa numero: \"))\n",
        "\n",
        "if num >= 100 :\n",
        "  print(\"El número es demasiado grande\")\n",
        "elif num % 2 == 0:\n",
        "  print (f\"{num} es par\")\n",
        "\n",
        "else :\n",
        "  print(f\"{num} es impar\")\n"
      ],
      "metadata": {
        "colab": {
          "base_uri": "https://localhost:8080/"
        },
        "id": "GgSnt7OeVZHZ",
        "outputId": "f6f8059d-51cf-4c69-9318-10bee53100b3"
      },
      "execution_count": null,
      "outputs": [
        {
          "output_type": "stream",
          "name": "stdout",
          "text": [
            "Ingresa numero: 100\n",
            "El número es demasiado grande\n"
          ]
        }
      ]
    },
    {
      "cell_type": "markdown",
      "source": [
        " Pide números al usuario hasta que ingrese 0 y muestra cuántos pares e impares ingresó."
      ],
      "metadata": {
        "id": "9ibLR76QPH6r"
      }
    },
    {
      "cell_type": "code",
      "source": [
        "even_count = 0\n",
        "odd_count = 0\n",
        "\n",
        "while True:\n",
        "  num = int(input(\"Ingresa un número (0 para terminar): \"))\n",
        "  if num == 0:\n",
        "    break  # Salir del bucle si el número es 0\n",
        "  if num % 2 == 0:\n",
        "    even_count += 1  # Incrementar el contador de pares\n",
        "  else:\n",
        "    odd_count += 1  # Incrementar el contador de impares\n",
        "\n",
        "print(f\"Números pares ingresados: {even_count}\")\n",
        "print(f\"Números impares ingresados: {odd_count}\")"
      ],
      "metadata": {
        "colab": {
          "base_uri": "https://localhost:8080/"
        },
        "id": "eIs0H03SPI_i",
        "outputId": "9261f3bf-8abe-4eee-864c-c14db74d4ffb"
      },
      "execution_count": null,
      "outputs": [
        {
          "output_type": "stream",
          "name": "stdout",
          "text": [
            "Ingresa un número (0 para terminar): 5\n",
            "Ingresa un número (0 para terminar): 0\n",
            "Números pares ingresados: 0\n",
            "Números impares ingresados: 1\n"
          ]
        }
      ]
    },
    {
      "cell_type": "markdown",
      "source": [
        "REPASO"
      ],
      "metadata": {
        "id": "TtQtxSmGVij4"
      }
    },
    {
      "cell_type": "markdown",
      "source": [
        "Pide al usuario su nombre y edad, y muéstralos en un solo mensaje usando una f-string."
      ],
      "metadata": {
        "id": "o5IYu3fiVjm6"
      }
    },
    {
      "cell_type": "code",
      "source": [
        "nombre = input(\"Ingrese su nombre: \")\n",
        "edad = int(input(\"Ingrese su edad: \"))\n",
        "\n",
        "print(f\"Mi nombre es {nombre} y tengo {edad} años\")"
      ],
      "metadata": {
        "colab": {
          "base_uri": "https://localhost:8080/"
        },
        "id": "19cWUQUzVoHU",
        "outputId": "2542d213-d7f6-4e28-f49f-7119d4b3026d"
      },
      "execution_count": null,
      "outputs": [
        {
          "output_type": "stream",
          "name": "stdout",
          "text": [
            "Ingrese su nombre: Jesus\n",
            "Ingrese su edad: 24\n",
            "Mi nombre es Jesus y tengo 24 años\n"
          ]
        }
      ]
    },
    {
      "cell_type": "markdown",
      "source": [
        "Pide tres números al usuario y muestra su producto y la suma de los tres.\n",
        "\n"
      ],
      "metadata": {
        "id": "O75VEVOcWqSE"
      }
    },
    {
      "cell_type": "code",
      "source": [
        "num1 = int(input(\"Ingrese el primer numero: \"))\n",
        "num2 = int(input(\"Ingrese el segundo numero: \"))\n",
        "num3 = int(input(\"Ingrese el tercer numero: \"))\n",
        "\n",
        "producto = num1 * num2 * num3\n",
        "suma = num1 + num2 + num3\n",
        "\n",
        "print (f\"El producto de {num1} * {num2} * {num3} es : {producto} y la suma de los mismos es {suma}\")"
      ],
      "metadata": {
        "colab": {
          "base_uri": "https://localhost:8080/"
        },
        "id": "ohASfDWIWq93",
        "outputId": "d14d0603-06e8-4dab-b1b5-6e0456290b95"
      },
      "execution_count": null,
      "outputs": [
        {
          "output_type": "stream",
          "name": "stdout",
          "text": [
            "Ingrese el primer numero: 2\n",
            "Ingrese el segundo numero: 2\n",
            "Ingrese el tercer numero: 2\n",
            "El producto de 2 * 2 * 2 es : 8 y la suma de los mismos es 6\n"
          ]
        }
      ]
    },
    {
      "cell_type": "markdown",
      "source": [
        " Pide una temperatura en Fahrenheit y conviértela a Kelvin usando la fórmula:"
      ],
      "metadata": {
        "id": "Js1lYFOWXfvT"
      }
    },
    {
      "cell_type": "code",
      "source": [
        "tem = float(input(\"Ingrese la temperatura en Fahrenheit: \"))\n",
        "\n",
        "kelvin = 5/9 * (tem - 32) + 273.15\n",
        "\n",
        "print(f\"{tem} Fahrenheit es lo mismo que {kelvin} kelvin\")"
      ],
      "metadata": {
        "colab": {
          "base_uri": "https://localhost:8080/"
        },
        "id": "jQXnVFEeXkri",
        "outputId": "2328e42e-a935-425c-8c49-617ac1006c53"
      },
      "execution_count": null,
      "outputs": [
        {
          "output_type": "stream",
          "name": "stdout",
          "text": [
            "Ingrese la temperatura en Fahrenheit: 12\n",
            "12.0 Fahrenheit es lo mismo que 262.0388888888889 kelvin\n"
          ]
        }
      ]
    },
    {
      "cell_type": "markdown",
      "source": [
        "Pide un número y verifica si es par, impar y además si es múltiplo de 5."
      ],
      "metadata": {
        "id": "HpNk5WczZQNf"
      }
    },
    {
      "cell_type": "code",
      "source": [
        "num = int(input(\"Ingrese un numero: \"))\n",
        "\n",
        "if num % 5 == 0 :\n",
        "  print(f\"{num} es multiplo de 5\")\n",
        "\n",
        "elif num % 2 == 0:\n",
        "  print(f\"{num} es par\")\n",
        "\n",
        "else :\n",
        "  print(f\"{num} es impar\")"
      ],
      "metadata": {
        "colab": {
          "base_uri": "https://localhost:8080/"
        },
        "id": "f8g5bX8pZVZc",
        "outputId": "5131d59b-3992-4168-ad5f-c5ff403922e3"
      },
      "execution_count": null,
      "outputs": [
        {
          "output_type": "stream",
          "name": "stdout",
          "text": [
            "Ingrese un numero: 10\n",
            "10 es multiplo de 5\n"
          ]
        }
      ]
    },
    {
      "cell_type": "code",
      "source": [
        "num = int(input(\"Ingrese un número: \"))\n",
        "\n",
        "if num % 5 == 0:\n",
        "    print(f\"{num} es múltiplo de 5\", end=\" \")  # Imprime si es múltiplo de 5 y continúa en la misma línea\n",
        "    if num % 2 == 0:  # Verifica si es par\n",
        "        print(\"y es par\")\n",
        "    else:\n",
        "        print(\"y es impar\")\n",
        "else:\n",
        "    if num % 2 == 0:  # Verifica si es par (si no es múltiplo de 5)\n",
        "        print(f\"{num} es par\")\n",
        "    else:\n",
        "        print(f\"{num} es impar\")"
      ],
      "metadata": {
        "colab": {
          "base_uri": "https://localhost:8080/"
        },
        "id": "ByzFPwkreF0X",
        "outputId": "e9af5f83-22c8-4b80-cd8b-802c8dfdf27a"
      },
      "execution_count": null,
      "outputs": [
        {
          "output_type": "stream",
          "name": "stdout",
          "text": [
            "Ingrese un número: 15\n",
            "15 es múltiplo de 5 y es impar\n"
          ]
        }
      ]
    },
    {
      "cell_type": "markdown",
      "source": [
        " Determinar si un año es bisiesto"
      ],
      "metadata": {
        "id": "h_ZUh_eceuZA"
      }
    },
    {
      "cell_type": "code",
      "source": [
        "año = 2030\n",
        "\n",
        "\n",
        "if  año % 4 == 0 and año % 100 != 0 or año % 400 == 0 :\n",
        "  print(f\"{año} es bisiesto\")\n",
        "else:\n",
        "  print(f\"{año} no es bisiesto\")"
      ],
      "metadata": {
        "colab": {
          "base_uri": "https://localhost:8080/"
        },
        "id": "StALAnZkeyYX",
        "outputId": "62f35a7b-59e3-461c-c721-314c43e39ac1"
      },
      "execution_count": null,
      "outputs": [
        {
          "output_type": "stream",
          "name": "stdout",
          "text": [
            "2030 no es bisiesto\n"
          ]
        }
      ]
    },
    {
      "cell_type": "markdown",
      "source": [
        "Pide un número entero positivo al usuario y muestra cuántos dígitos tiene."
      ],
      "metadata": {
        "id": "rmwi7LBMhLOh"
      }
    },
    {
      "cell_type": "code",
      "source": [
        "num = int(input(\"Introduce un número entero positivo: \"))\n",
        "\n",
        "if num <= 0:\n",
        "  print(\"El número debe ser positivo.\")\n",
        "else:\n",
        "  num_str = str(num)  # Convertir el número a una cadena de texto\n",
        "  num_digits = len(num_str)  # Obtener la longitud de la cadena (número de dígitos)\n",
        "  print(f\"El número {num} tiene {num_digits} dígitos.\")"
      ],
      "metadata": {
        "id": "lASEbbcBhN7R",
        "colab": {
          "base_uri": "https://localhost:8080/"
        },
        "outputId": "6d4a6680-05f5-459d-db41-f5e746282976"
      },
      "execution_count": null,
      "outputs": [
        {
          "output_type": "stream",
          "name": "stdout",
          "text": [
            "Introduce un número entero positivo: -34\n",
            "El número debe ser positivo.\n"
          ]
        }
      ]
    },
    {
      "cell_type": "markdown",
      "source": [
        "Pide un número al usuario e imprime su versión invertida (Ejemplo: 1234 → 4321)."
      ],
      "metadata": {
        "id": "9YixMq52PzxA"
      }
    },
    {
      "cell_type": "code",
      "source": [
        "num = int(input(\"Introduce un número entero positivo: \"))\n",
        "\n",
        "num_str = str(num)  # Convertir el número a una cadena de texto\n",
        "num_invertido_str = num_str[::-1]  # Invertir la cadena usando rebanado (slicing)\n",
        "num_invertido = int(num_invertido_str)  # Convertir la cadena invertida de nuevo a un número\n",
        "\n",
        "print(f\"El número invertido de {num} es {num_invertido}\")"
      ],
      "metadata": {
        "colab": {
          "base_uri": "https://localhost:8080/"
        },
        "id": "mDuElA16P0P9",
        "outputId": "79f29082-481f-441f-95da-af0b7b9d9453"
      },
      "execution_count": null,
      "outputs": [
        {
          "output_type": "stream",
          "name": "stdout",
          "text": [
            "Introduce un número entero : 12\n",
            "El número invertido de 12 es 21\n"
          ]
        }
      ]
    },
    {
      "cell_type": "markdown",
      "source": [
        "Genera una contraseña aleatoria de 12 caracteres que incluya mayúsculas, minúsculas, números y símbolos especiales."
      ],
      "metadata": {
        "id": "DGH78a5gXyf4"
      }
    },
    {
      "cell_type": "code",
      "source": [
        "import random\n",
        "import string\n",
        "\n",
        "def generar_contraseña(longitud=12):\n",
        "    \"\"\"Genera una contraseña aleatoria de la longitud especificada.\n",
        "\n",
        "    Args:\n",
        "        longitud: La longitud de la contraseña a generar.\n",
        "\n",
        "    Returns:\n",
        "        Una cadena de texto que representa la contraseña generada.\n",
        "    \"\"\" # Added the closing triple quotes for the docstring\n",
        "    caracteres = string.ascii_letters + string.digits + string.punctuation\n",
        "    contraseña = ''.join(random.choice(caracteres) for i in range(longitud))\n",
        "    return contraseña\n",
        "\n",
        "# Ejemplo de uso:\n",
        "contraseña_generada = generar_contraseña()\n",
        "print(f\"Contraseña generada: {contraseña_generada}\")"
      ],
      "metadata": {
        "colab": {
          "base_uri": "https://localhost:8080/"
        },
        "id": "wUrDSZmheI3P",
        "outputId": "b9a354c9-cbc7-4303-acad-ec507fb2b4a1"
      },
      "execution_count": null,
      "outputs": [
        {
          "output_type": "stream",
          "name": "stdout",
          "text": [
            "Contraseña generada: P1#v/XxgG.*e\n"
          ]
        }
      ]
    },
    {
      "cell_type": "markdown",
      "source": [
        "Pide 5 números al usuario, guárdalos en una lista y muéstralos ordenados de mayor a menor ."
      ],
      "metadata": {
        "id": "Jw-sdYl-j9Ij"
      }
    },
    {
      "cell_type": "code",
      "source": [
        "numeros = []  # Crear una lista vacía para almacenar los números\n",
        "\n",
        "# Pedir al usuario que ingrese 5 números\n",
        "for i in range(5):\n",
        "  while True:  # Bucle para manejar entradas incorrectas\n",
        "    try:\n",
        "      numero = int(input(f\"Ingresa el número {i + 1}: \"))\n",
        "      numeros.append(numero)  # Agregar el número a la lista\n",
        "      break  # Salir del bucle si la entrada es correcta\n",
        "    except ValueError:\n",
        "      print(\"Entrada inválida. Por favor, ingresa un número entero.\")\n",
        "\n",
        "\n",
        "# Ordenar la lista de mayor a menor\n",
        "numeros.sort(reverse=True)\n",
        "\n",
        "# Mostrar la lista ordenada\n",
        "print(\"Números ordenados de mayor a menor:\", numeros)"
      ],
      "metadata": {
        "colab": {
          "base_uri": "https://localhost:8080/"
        },
        "id": "1dbz9N6tj90i",
        "outputId": "c4dda57c-bbb9-40b8-d309-2bee49536966"
      },
      "execution_count": 2,
      "outputs": [
        {
          "output_type": "stream",
          "name": "stdout",
          "text": [
            "Ingresa el número 1: 12 23 45 56 \n",
            "Entrada inválida. Por favor, ingresa un número entero.\n",
            "Ingresa el número 1: 1\n",
            "Ingresa el número 2: 34\n",
            "Ingresa el número 3: 45\n",
            "Ingresa el número 4: 78\n",
            "Ingresa el número 5: 45\n",
            "Números ordenados de mayor a menor: [78, 45, 45, 34, 1]\n"
          ]
        }
      ]
    },
    {
      "cell_type": "markdown",
      "source": [
        "Pide una palabra y cuenta cuántas vocales y cuántas consonantes tiene."
      ],
      "metadata": {
        "id": "q5kJUHFtjVG2"
      }
    },
    {
      "cell_type": "code",
      "source": [
        "palabra = input(\"Ingrese una palabra: \")\n",
        "vocales = \"aeiouAEIOU\"  # Consider both lowercase and uppercase vowels\n",
        "contador_vocales = 0\n",
        "contador_consonantes = 0\n",
        "\n",
        "for letra in palabra:\n",
        "    if letra in vocales:\n",
        "        contador_vocales += 1\n",
        "    elif letra.isalpha():  # Check if it's a letter and not a space or symbol\n",
        "        contador_consonantes += 1\n",
        "\n",
        "print(f\"La palabra '{palabra}' tiene {contador_vocales} vocales y {contador_consonantes} consonantes.\")\n",
        "\n"
      ],
      "metadata": {
        "colab": {
          "base_uri": "https://localhost:8080/"
        },
        "id": "SAhlU6R3jVmk",
        "outputId": "b56ad42e-b017-464e-d8ce-05eb07c2fd60"
      },
      "execution_count": 3,
      "outputs": [
        {
          "output_type": "stream",
          "name": "stdout",
          "text": [
            "Ingrese una palabra: HipopotamoAe\n",
            "La palabra 'HipopotamoAe' tiene 7 vocales y 5 consonantes.\n"
          ]
        }
      ]
    }
  ]
}