{
  "cells": [
    {
      "cell_type": "markdown",
      "metadata": {
        "id": "view-in-github",
        "colab_type": "text"
      },
      "source": [
        "<a href=\"https://colab.research.google.com/github/Hertoli/HandConnect/blob/main/practica3.ipynb\" target=\"_parent\"><img src=\"https://colab.research.google.com/assets/colab-badge.svg\" alt=\"Open In Colab\"/></a>"
      ]
    },
    {
      "cell_type": "markdown",
      "metadata": {
        "id": "4XXzqj4Un8VL"
      },
      "source": [
        "Imprime un mensaje combinando and y or en una condición."
      ]
    },
    {
      "cell_type": "code",
      "execution_count": null,
      "metadata": {
        "colab": {
          "base_uri": "https://localhost:8080/"
        },
        "id": "YwUBofwhn-Gb",
        "outputId": "c275c4e2-feff-4b47-b299-6ab1ba34b6c1"
      },
      "outputs": [
        {
          "name": "stdout",
          "output_type": "stream",
          "text": [
            "Aprendere\n"
          ]
        }
      ],
      "source": [
        "mensaje = \"Estoy intentando estudiar\"\n",
        "motivacion = \"No lo dudes tanto\"\n",
        "disciplina = \"Ten disciplina Estrella\"\n",
        "\n",
        "if mensaje and motivacion or disciplina:\n",
        "\n",
        "   print(f\"Aprendere\")"
      ]
    },
    {
      "cell_type": "markdown",
      "metadata": {
        "id": "9IZsBtSTqVGM"
      },
      "source": [
        "Crea una función que use len() para contar caracteres en una palabra."
      ]
    },
    {
      "cell_type": "code",
      "execution_count": null,
      "metadata": {
        "colab": {
          "base_uri": "https://localhost:8080/"
        },
        "id": "rkj7sNoNqZhO",
        "outputId": "c63b24cc-e7f9-44c9-d8c7-8ef2054756cb"
      },
      "outputs": [
        {
          "name": "stdout",
          "output_type": "stream",
          "text": [
            "La corazon tiene 7 caracteres\n"
          ]
        }
      ],
      "source": [
        "palabra = \"corazon\"\n",
        "contador = len(palabra)\n",
        "\n",
        "print(f\"La {palabra} tiene {contador} caracteres\")"
      ]
    },
    {
      "cell_type": "markdown",
      "metadata": {
        "id": "s-S7jIrjq67n"
      },
      "source": [
        "Usa [::-1] para invertir una oración ingresada por el usuario."
      ]
    },
    {
      "cell_type": "code",
      "execution_count": null,
      "metadata": {
        "colab": {
          "base_uri": "https://localhost:8080/"
        },
        "id": "Z1r-u4yFq9h1",
        "outputId": "401f9e5d-6380-4bec-e349-de04cd4c1ce7"
      },
      "outputs": [
        {
          "name": "stdout",
          "output_type": "stream",
          "text": [
            "Ingrese una oración para invertirla: Hola\n",
            "La oración invertida es : aloH\n"
          ]
        }
      ],
      "source": [
        "oracion = input(\"Ingrese una oración para invertirla: \")\n",
        "invertir = oracion[::-1]\n",
        "\n",
        "print (f\"La oración invertida es : {invertir}\")"
      ]
    },
    {
      "cell_type": "markdown",
      "metadata": {
        "id": "yvzoMTGHrbVr"
      },
      "source": [
        "Genera un número aleatorio entre 1 y 100 con random."
      ]
    },
    {
      "cell_type": "code",
      "execution_count": null,
      "metadata": {
        "colab": {
          "base_uri": "https://localhost:8080/"
        },
        "id": "U6qAZE8Jrddd",
        "outputId": "e47a043e-9031-4275-e9a2-c8c7c7b72ae1"
      },
      "outputs": [
        {
          "name": "stdout",
          "output_type": "stream",
          "text": [
            "45\n"
          ]
        }
      ],
      "source": [
        "import random\n",
        "print(random.randint(1, 100))  # Genera un número entre 1 y 10\n"
      ]
    },
    {
      "cell_type": "markdown",
      "metadata": {
        "id": "RWytogQpsypk"
      },
      "source": [
        "Usa string.ascii_letters para generar una cadena aleatoria de 5 letras."
      ]
    },
    {
      "cell_type": "code",
      "execution_count": 32,
      "metadata": {
        "colab": {
          "base_uri": "https://localhost:8080/"
        },
        "id": "T-OOudLqszKF",
        "outputId": "b545e501-00fa-4b14-b307-4934390b8b0b"
      },
      "outputs": [
        {
          "output_type": "stream",
          "name": "stdout",
          "text": [
            "NziMR\n"
          ]
        }
      ],
      "source": [
        "import random\n",
        "import string\n",
        "\n",
        "def generar_cadena_aleatoria(longitud):\n",
        "  \"\"\"Genera una cadena aleatoria de la longitud especificada.\n",
        "\n",
        "  Args:\n",
        "    longitud: La longitud de la cadena a generar.\n",
        "\n",
        "  Returns:\n",
        "    Una cadena aleatoria.\n",
        "  \"\"\"\n",
        "  return ''.join(random.choice(string.ascii_letters) for _ in range(longitud))\n",
        "\n",
        "# Genera una cadena aleatoria de 5 letras.\n",
        "cadena_aleatoria = generar_cadena_aleatoria(5)\n",
        "print(cadena_aleatoria)"
      ]
    }
  ],
  "metadata": {
    "colab": {
      "provenance": [],
      "authorship_tag": "ABX9TyMAS7ElyA1MLcz+3+mZpgSY",
      "include_colab_link": true
    },
    "kernelspec": {
      "display_name": "Python 3",
      "name": "python3"
    },
    "language_info": {
      "name": "python"
    }
  },
  "nbformat": 4,
  "nbformat_minor": 0
}