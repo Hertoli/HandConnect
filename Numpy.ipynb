{
  "nbformat": 4,
  "nbformat_minor": 0,
  "metadata": {
    "colab": {
      "provenance": [],
      "authorship_tag": "ABX9TyPHt/5Li6+cxMfzz6NrcAiJ",
      "include_colab_link": true
    },
    "kernelspec": {
      "name": "python3",
      "display_name": "Python 3"
    },
    "language_info": {
      "name": "python"
    }
  },
  "cells": [
    {
      "cell_type": "markdown",
      "metadata": {
        "id": "view-in-github",
        "colab_type": "text"
      },
      "source": [
        "<a href=\"https://colab.research.google.com/github/Hertoli/HandConnect/blob/main/Numpy.ipynb\" target=\"_parent\"><img src=\"https://colab.research.google.com/assets/colab-badge.svg\" alt=\"Open In Colab\"/></a>"
      ]
    },
    {
      "cell_type": "markdown",
      "source": [
        "Importar NumPy"
      ],
      "metadata": {
        "id": "gqkPalsbRGwt"
      }
    },
    {
      "cell_type": "code",
      "source": [
        "import numpy as np\n"
      ],
      "metadata": {
        "id": "uO3rWkJoRHeq"
      },
      "execution_count": null,
      "outputs": []
    },
    {
      "cell_type": "markdown",
      "source": [
        "Crear un arreglo de ceros de tamaño 5"
      ],
      "metadata": {
        "id": "NP7FC7keRJQG"
      }
    },
    {
      "cell_type": "code",
      "source": [
        "np.zeros(5)\n"
      ],
      "metadata": {
        "colab": {
          "base_uri": "https://localhost:8080/"
        },
        "id": "fXlxR6rgRLxy",
        "outputId": "bd22ed1a-04e5-4334-afbf-7d8a88c45531"
      },
      "execution_count": null,
      "outputs": [
        {
          "output_type": "execute_result",
          "data": {
            "text/plain": [
              "array([0., 0., 0., 0., 0.])"
            ]
          },
          "metadata": {},
          "execution_count": 4
        }
      ]
    },
    {
      "cell_type": "markdown",
      "source": [
        "Crear un arreglo de unos de tamaño 10"
      ],
      "metadata": {
        "id": "FALRZyOkRQdy"
      }
    },
    {
      "cell_type": "code",
      "source": [
        "np.ones(10)\n"
      ],
      "metadata": {
        "colab": {
          "base_uri": "https://localhost:8080/"
        },
        "id": "J-aDdjBLRUFw",
        "outputId": "d1c54502-e236-4a94-890b-6445f4b9b742"
      },
      "execution_count": null,
      "outputs": [
        {
          "output_type": "execute_result",
          "data": {
            "text/plain": [
              "array([1., 1., 1., 1., 1., 1., 1., 1., 1., 1.])"
            ]
          },
          "metadata": {},
          "execution_count": 5
        }
      ]
    },
    {
      "cell_type": "markdown",
      "source": [
        "Crear un arreglo con valores del 10 al 49\n",
        "\n"
      ],
      "metadata": {
        "id": "bWUzFj4rRiVP"
      }
    },
    {
      "cell_type": "code",
      "source": [
        "np.arange(10, 50)\n"
      ],
      "metadata": {
        "colab": {
          "base_uri": "https://localhost:8080/"
        },
        "id": "ix4_KjymRqdy",
        "outputId": "35f2ccde-9ace-4621-f11e-7c48edea37e1"
      },
      "execution_count": null,
      "outputs": [
        {
          "output_type": "execute_result",
          "data": {
            "text/plain": [
              "array([10, 11, 12, 13, 14, 15, 16, 17, 18, 19, 20, 21, 22, 23, 24, 25, 26,\n",
              "       27, 28, 29, 30, 31, 32, 33, 34, 35, 36, 37, 38, 39, 40, 41, 42, 43,\n",
              "       44, 45, 46, 47, 48, 49])"
            ]
          },
          "metadata": {},
          "execution_count": 6
        }
      ]
    },
    {
      "cell_type": "markdown",
      "source": [
        "Crear una matriz identidad de 3x3"
      ],
      "metadata": {
        "id": "ltBUBzEKRxrB"
      }
    },
    {
      "cell_type": "code",
      "source": [
        "np.eye(3)\n"
      ],
      "metadata": {
        "colab": {
          "base_uri": "https://localhost:8080/"
        },
        "id": "M_szeEYvRyKj",
        "outputId": "1c6a8f89-1c8a-4b98-9920-ff72d1ab842d"
      },
      "execution_count": null,
      "outputs": [
        {
          "output_type": "execute_result",
          "data": {
            "text/plain": [
              "array([[1., 0., 0.],\n",
              "       [0., 1., 0.],\n",
              "       [0., 0., 1.]])"
            ]
          },
          "metadata": {},
          "execution_count": 7
        }
      ]
    },
    {
      "cell_type": "markdown",
      "source": [
        "Cambiar la forma (reshape) de un arreglo de 1D a 2D\n",
        "\n",
        "\n"
      ],
      "metadata": {
        "id": "FyNYF44dS5Ef"
      }
    },
    {
      "cell_type": "code",
      "source": [
        "arr = np.arange(9)\n",
        "arr.reshape(3, 3)\n"
      ],
      "metadata": {
        "colab": {
          "base_uri": "https://localhost:8080/"
        },
        "id": "uuZOPveqS76C",
        "outputId": "5af90047-94ab-4ff9-d567-0f1ca1ba000a"
      },
      "execution_count": null,
      "outputs": [
        {
          "output_type": "execute_result",
          "data": {
            "text/plain": [
              "array([[0, 1, 2],\n",
              "       [3, 4, 5],\n",
              "       [6, 7, 8]])"
            ]
          },
          "metadata": {},
          "execution_count": 8
        }
      ]
    },
    {
      "cell_type": "markdown",
      "source": [
        "Obtener los índices de los elementos distintos de cero"
      ],
      "metadata": {
        "id": "xrKltBZ3TkGc"
      }
    },
    {
      "cell_type": "code",
      "source": [
        "arr = np.array([1, 0, 2, 0, 3])\n",
        "np.nonzero(arr)\n"
      ],
      "metadata": {
        "colab": {
          "base_uri": "https://localhost:8080/"
        },
        "id": "Y1WEsShoTksU",
        "outputId": "294ab403-8ddc-40e0-a730-295195b03f10"
      },
      "execution_count": null,
      "outputs": [
        {
          "output_type": "execute_result",
          "data": {
            "text/plain": [
              "(array([0, 2, 4]),)"
            ]
          },
          "metadata": {},
          "execution_count": 9
        }
      ]
    },
    {
      "cell_type": "markdown",
      "source": [
        "Invertir un arreglo"
      ],
      "metadata": {
        "id": "DaoTk1qIUAlO"
      }
    },
    {
      "cell_type": "code",
      "source": [
        "arr = np.arange(10)\n",
        "arr[::-1]\n"
      ],
      "metadata": {
        "colab": {
          "base_uri": "https://localhost:8080/"
        },
        "id": "LDABJ0GaUCjn",
        "outputId": "b5ce1c66-d0d2-466c-f11c-c2d8e31c1f53"
      },
      "execution_count": null,
      "outputs": [
        {
          "output_type": "execute_result",
          "data": {
            "text/plain": [
              "array([9, 8, 7, 6, 5, 4, 3, 2, 1, 0])"
            ]
          },
          "metadata": {},
          "execution_count": 10
        }
      ]
    },
    {
      "cell_type": "markdown",
      "source": [
        "Encontrar los valores únicos en un arreglo"
      ],
      "metadata": {
        "id": "bkiajiqJVMCB"
      }
    },
    {
      "cell_type": "code",
      "source": [
        "arr = np.array([1, 2, 2, 3, 4, 4])\n",
        "np.unique(arr)\n"
      ],
      "metadata": {
        "colab": {
          "base_uri": "https://localhost:8080/"
        },
        "id": "Zl5TOHfgVS7Y",
        "outputId": "57d5695a-7951-4493-dd54-6788f19ffe7e"
      },
      "execution_count": null,
      "outputs": [
        {
          "output_type": "execute_result",
          "data": {
            "text/plain": [
              "array([1, 2, 3, 4])"
            ]
          },
          "metadata": {},
          "execution_count": 11
        }
      ]
    },
    {
      "cell_type": "markdown",
      "source": [
        "Reemplazar todos los valores mayores a 5 por 0"
      ],
      "metadata": {
        "id": "NTrvsJnSWLfd"
      }
    },
    {
      "cell_type": "code",
      "source": [
        "arr = np.arange(10)\n",
        "arr[arr > 5] = 0\n"
      ],
      "metadata": {
        "id": "QRM8Y-r3WOhs"
      },
      "execution_count": null,
      "outputs": []
    },
    {
      "cell_type": "markdown",
      "source": [
        "Sumar dos matrices"
      ],
      "metadata": {
        "id": "0XW7aHxeWeX0"
      }
    },
    {
      "cell_type": "code",
      "source": [
        "A = np.array([[1, 2], [3, 4]])\n",
        "B = np.array([[5, 6], [7, 8]])\n",
        "A + B\n"
      ],
      "metadata": {
        "colab": {
          "base_uri": "https://localhost:8080/"
        },
        "id": "25C_6A7BWfB4",
        "outputId": "542a7e53-0165-4953-fbf8-9433878c4f07"
      },
      "execution_count": null,
      "outputs": [
        {
          "output_type": "execute_result",
          "data": {
            "text/plain": [
              "array([[ 6,  8],\n",
              "       [10, 12]])"
            ]
          },
          "metadata": {},
          "execution_count": 16
        }
      ]
    },
    {
      "cell_type": "markdown",
      "source": [
        "Calcular la media, mediana y desviación estándar de un arreglo"
      ],
      "metadata": {
        "id": "SgemWPGHXBJ7"
      }
    },
    {
      "cell_type": "code",
      "source": [
        "arr = np.array([1, 2, 3, 4, 5])\n",
        "np.mean(arr), np.median(arr), np.std(arr)\n"
      ],
      "metadata": {
        "colab": {
          "base_uri": "https://localhost:8080/"
        },
        "id": "MWxLax81XEDx",
        "outputId": "c8737776-9ab6-48c6-c2c9-0bf576bcf0db"
      },
      "execution_count": null,
      "outputs": [
        {
          "output_type": "execute_result",
          "data": {
            "text/plain": [
              "(np.float64(3.0), np.float64(3.0), np.float64(1.4142135623730951))"
            ]
          },
          "metadata": {},
          "execution_count": 18
        }
      ]
    },
    {
      "cell_type": "markdown",
      "source": [
        "Multiplicar una matriz por un escalar"
      ],
      "metadata": {
        "id": "a5x-hclfXOvU"
      }
    },
    {
      "cell_type": "code",
      "source": [
        "A = np.array([[1, 2], [3, 4]])\n",
        "A * 2\n"
      ],
      "metadata": {
        "colab": {
          "base_uri": "https://localhost:8080/"
        },
        "id": "jhzKGGriXQym",
        "outputId": "5731c9fc-24d5-4675-fd97-5fd048bd53b3"
      },
      "execution_count": null,
      "outputs": [
        {
          "output_type": "execute_result",
          "data": {
            "text/plain": [
              "array([[2, 4],\n",
              "       [6, 8]])"
            ]
          },
          "metadata": {},
          "execution_count": 19
        }
      ]
    },
    {
      "cell_type": "markdown",
      "source": [
        "Obtener el producto punto de dos vectores\n"
      ],
      "metadata": {
        "id": "QHkJUrRwXftm"
      }
    },
    {
      "cell_type": "code",
      "source": [
        "v1 = np.array([1, 2])\n",
        "v2 = np.array([3, 4])\n",
        "np.dot(v1, v2)\n"
      ],
      "metadata": {
        "colab": {
          "base_uri": "https://localhost:8080/"
        },
        "id": "LM-BOBUlXkFE",
        "outputId": "e2762345-d8c7-4d59-d536-092d72001040"
      },
      "execution_count": null,
      "outputs": [
        {
          "output_type": "execute_result",
          "data": {
            "text/plain": [
              "np.int64(11)"
            ]
          },
          "metadata": {},
          "execution_count": 20
        }
      ]
    },
    {
      "cell_type": "markdown",
      "source": [
        "Obtener la matriz transpuesta y la inversa"
      ],
      "metadata": {
        "id": "jfQymLqtXsrW"
      }
    },
    {
      "cell_type": "code",
      "source": [
        "A = np.array([[1, 2], [3, 4]])\n",
        "A.T, np.linalg.inv(A)\n"
      ],
      "metadata": {
        "colab": {
          "base_uri": "https://localhost:8080/"
        },
        "id": "bt4xPNEZXuFu",
        "outputId": "ea3088ac-0798-41dc-9604-187504b92ad1"
      },
      "execution_count": null,
      "outputs": [
        {
          "output_type": "execute_result",
          "data": {
            "text/plain": [
              "(array([[1, 3],\n",
              "        [2, 4]]),\n",
              " array([[-2. ,  1. ],\n",
              "        [ 1.5, -0.5]]))"
            ]
          },
          "metadata": {},
          "execution_count": 21
        }
      ]
    }
  ]
}